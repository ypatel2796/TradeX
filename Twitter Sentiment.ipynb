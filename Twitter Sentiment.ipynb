{
 "cells": [
  {
   "cell_type": "code",
   "execution_count": 1,
   "id": "4761e958",
   "metadata": {},
   "outputs": [
    {
     "name": "stderr",
     "output_type": "stream",
     "text": [
      "[nltk_data] Downloading package vader_lexicon to\n",
      "[nltk_data]     C:\\Users\\natal\\AppData\\Roaming\\nltk_data...\n",
      "[nltk_data]   Package vader_lexicon is already up-to-date!\n"
     ]
    }
   ],
   "source": [
    "import requests\n",
    "import tweepy as tw\n",
    "from nltk.corpus import stopwords\n",
    "from nltk.sentiment.vader import SentimentIntensityAnalyzer\n",
    "from sklearn.feature_extraction.text import CountVectorizer\n",
    "import nltk\n",
    "from nltk.sentiment.vader import SentimentIntensityAnalyzer\n",
    "import warnings\n",
    "import re\n",
    "import pandas as pd\n",
    "import json\n",
    "import datetime\n",
    "import time\n",
    "import csv\n",
    "import numpy as np\n",
    "import nltk\n",
    "nltk.download('vader_lexicon')\n",
    "from nltk.sentiment.vader import SentimentIntensityAnalyzer\n",
    "\n",
    "sid = SentimentIntensityAnalyzer()"
   ]
  },
  {
   "cell_type": "code",
   "execution_count": 2,
   "id": "412b8d1a",
   "metadata": {},
   "outputs": [
    {
     "name": "stderr",
     "output_type": "stream",
     "text": [
      "C:\\Users\\natal\\anaconda3\\lib\\site-packages\\IPython\\core\\interactiveshell.py:3444: DtypeWarning: Columns (15) have mixed types.Specify dtype option on import or set low_memory=False.\n",
      "  exec(code_obj, self.user_global_ns, self.user_ns)\n",
      "C:\\Users\\natal\\anaconda3\\lib\\site-packages\\IPython\\core\\interactiveshell.py:3444: DtypeWarning: Columns (13,15) have mixed types.Specify dtype option on import or set low_memory=False.\n",
      "  exec(code_obj, self.user_global_ns, self.user_ns)\n"
     ]
    }
   ],
   "source": [
    "twet_amz = pd.read_csv('AMZN_Comp.csv')\n",
    "twet_fb = pd.read_csv('FB_Comp.csv')\n",
    "twet_apl = pd.read_csv('AAPL_Comp.csv')"
   ]
  },
  {
   "cell_type": "code",
   "execution_count": 3,
   "id": "5693c9b2",
   "metadata": {},
   "outputs": [],
   "source": [
    "twet_amz['hashtag'] = '$AMZN'\n",
    "twet_fb['hashtag'] = '$FB'\n",
    "twet_apl['hashtag'] = '$AAPL'"
   ]
  },
  {
   "cell_type": "code",
   "execution_count": 4,
   "id": "167c8974",
   "metadata": {},
   "outputs": [],
   "source": [
    "twit_data = pd.concat([twet_amz, twet_fb, twet_apl], axis=0)"
   ]
  },
  {
   "cell_type": "code",
   "execution_count": 5,
   "id": "0428edcc",
   "metadata": {},
   "outputs": [],
   "source": [
    "twit_data.rename(columns = {'created_at':'date'}, inplace = True)"
   ]
  },
  {
   "cell_type": "code",
   "execution_count": 6,
   "id": "b3909d1c",
   "metadata": {},
   "outputs": [],
   "source": [
    "twit_data.rename(columns = {'reshares':'retweets'}, inplace = True)"
   ]
  },
  {
   "cell_type": "code",
   "execution_count": 7,
   "id": "51dee51c",
   "metadata": {},
   "outputs": [],
   "source": [
    "twit_data['date'] = twit_data['date'].str.replace('T',' ')"
   ]
  },
  {
   "cell_type": "code",
   "execution_count": 8,
   "id": "a54c6d06",
   "metadata": {},
   "outputs": [],
   "source": [
    "twit_data['date'] = twit_data['date'].str.replace('Z',' ')"
   ]
  },
  {
   "cell_type": "code",
   "execution_count": 9,
   "id": "40f44615",
   "metadata": {},
   "outputs": [],
   "source": [
    "df = twit_data.drop('user', inplace=True, axis=1)"
   ]
  },
  {
   "cell_type": "code",
   "execution_count": 10,
   "id": "ee7eb94c",
   "metadata": {},
   "outputs": [],
   "source": [
    "df = twit_data.drop('source', inplace=True, axis=1)"
   ]
  },
  {
   "cell_type": "code",
   "execution_count": 11,
   "id": "7d099c3a",
   "metadata": {},
   "outputs": [],
   "source": [
    "df = twit_data.drop('mentioned_users', inplace=True, axis=1)"
   ]
  },
  {
   "cell_type": "code",
   "execution_count": 12,
   "id": "752aa4fa",
   "metadata": {},
   "outputs": [],
   "source": [
    "df = twit_data.drop('entities', inplace=True, axis=1)"
   ]
  },
  {
   "cell_type": "code",
   "execution_count": 13,
   "id": "825b3eb8",
   "metadata": {},
   "outputs": [],
   "source": [
    "df = twit_data.drop('id', inplace=True, axis=1)"
   ]
  },
  {
   "cell_type": "code",
   "execution_count": 14,
   "id": "f15f8a59",
   "metadata": {},
   "outputs": [],
   "source": [
    "df = twit_data.drop('conversation', inplace=True, axis=1)"
   ]
  },
  {
   "cell_type": "code",
   "execution_count": 15,
   "id": "e8c44d11",
   "metadata": {},
   "outputs": [],
   "source": [
    "df = twit_data.drop('links', inplace=True, axis=1)"
   ]
  },
  {
   "cell_type": "code",
   "execution_count": 16,
   "id": "524768c8",
   "metadata": {},
   "outputs": [],
   "source": [
    "df = twit_data.drop('reshare_message', inplace=True, axis=1)"
   ]
  },
  {
   "cell_type": "code",
   "execution_count": 17,
   "id": "81f22c8e",
   "metadata": {},
   "outputs": [],
   "source": [
    "df = twit_data.drop('owned_symbols', inplace=True, axis=1)"
   ]
  },
  {
   "cell_type": "code",
   "execution_count": 18,
   "id": "c84d2bad",
   "metadata": {},
   "outputs": [],
   "source": [
    "df = twit_data.drop('Unnamed: 11', inplace=True, axis=1)"
   ]
  },
  {
   "cell_type": "code",
   "execution_count": 20,
   "id": "fbd18f86",
   "metadata": {},
   "outputs": [],
   "source": [
    "df = twit_data.drop('symbols', inplace=True, axis=1)"
   ]
  },
  {
   "cell_type": "code",
   "execution_count": null,
   "id": "7c3b17e4",
   "metadata": {},
   "outputs": [],
   "source": [
    "df = twit_data.drop('Unnamed: 0.1', inplace=True, axis=1)\n",
    "df = twit_data.drop('Unnamed: 0', inplace=True, axis=1)"
   ]
  },
  {
   "cell_type": "code",
   "execution_count": 22,
   "id": "d936d806",
   "metadata": {},
   "outputs": [],
   "source": [
    "twit_data['likes'] = twit_data['likes'].fillna(0)\n",
    "twit_data['retweets'] = twit_data['retweets'].fillna(0)"
   ]
  },
  {
   "cell_type": "code",
   "execution_count": 23,
   "id": "de85175e",
   "metadata": {},
   "outputs": [
    {
     "data": {
      "text/html": [
       "<div>\n",
       "<style scoped>\n",
       "    .dataframe tbody tr th:only-of-type {\n",
       "        vertical-align: middle;\n",
       "    }\n",
       "\n",
       "    .dataframe tbody tr th {\n",
       "        vertical-align: top;\n",
       "    }\n",
       "\n",
       "    .dataframe thead th {\n",
       "        text-align: right;\n",
       "    }\n",
       "</style>\n",
       "<table border=\"1\" class=\"dataframe\">\n",
       "  <thead>\n",
       "    <tr style=\"text-align: right;\">\n",
       "      <th></th>\n",
       "      <th>Unnamed: 0</th>\n",
       "      <th>Unnamed: 0.1</th>\n",
       "      <th>body</th>\n",
       "      <th>date</th>\n",
       "      <th>likes</th>\n",
       "      <th>retweets</th>\n",
       "      <th>hashtag</th>\n",
       "    </tr>\n",
       "  </thead>\n",
       "  <tbody>\n",
       "    <tr>\n",
       "      <th>0</th>\n",
       "      <td>0</td>\n",
       "      <td>0</td>\n",
       "      <td>$AMZN Simulated 3355.0 dollar CALLS for Wednes...</td>\n",
       "      <td>2022-01-05 03:00:20</td>\n",
       "      <td>0.0</td>\n",
       "      <td>0.0</td>\n",
       "      <td>$AMZN</td>\n",
       "    </tr>\n",
       "    <tr>\n",
       "      <th>1</th>\n",
       "      <td>1</td>\n",
       "      <td>1</td>\n",
       "      <td>$AMZN breakout soon 📢💄💍💎📢</td>\n",
       "      <td>2022-01-05 02:49:55</td>\n",
       "      <td>10.0</td>\n",
       "      <td>0.0</td>\n",
       "      <td>$AMZN</td>\n",
       "    </tr>\n",
       "    <tr>\n",
       "      <th>2</th>\n",
       "      <td>2</td>\n",
       "      <td>2</td>\n",
       "      <td>@M000 I thought TSLA of AR was stretching it a...</td>\n",
       "      <td>2022-01-05 02:46:45</td>\n",
       "      <td>0.0</td>\n",
       "      <td>0.0</td>\n",
       "      <td>$AMZN</td>\n",
       "    </tr>\n",
       "    <tr>\n",
       "      <th>3</th>\n",
       "      <td>3</td>\n",
       "      <td>3</td>\n",
       "      <td>$AMZN Rejected 3343.50</td>\n",
       "      <td>2022-01-05 02:43:35</td>\n",
       "      <td>1.0</td>\n",
       "      <td>1.0</td>\n",
       "      <td>$AMZN</td>\n",
       "    </tr>\n",
       "    <tr>\n",
       "      <th>4</th>\n",
       "      <td>4</td>\n",
       "      <td>4</td>\n",
       "      <td>$GME $AMZN lol assholes look at this hahah</td>\n",
       "      <td>2022-01-05 02:42:56</td>\n",
       "      <td>2.0</td>\n",
       "      <td>0.0</td>\n",
       "      <td>$AMZN</td>\n",
       "    </tr>\n",
       "  </tbody>\n",
       "</table>\n",
       "</div>"
      ],
      "text/plain": [
       "   Unnamed: 0  Unnamed: 0.1  \\\n",
       "0           0             0   \n",
       "1           1             1   \n",
       "2           2             2   \n",
       "3           3             3   \n",
       "4           4             4   \n",
       "\n",
       "                                                body                  date  \\\n",
       "0  $AMZN Simulated 3355.0 dollar CALLS for Wednes...  2022-01-05 03:00:20    \n",
       "1                          $AMZN breakout soon 📢💄💍💎📢  2022-01-05 02:49:55    \n",
       "2  @M000 I thought TSLA of AR was stretching it a...  2022-01-05 02:46:45    \n",
       "3                             $AMZN Rejected 3343.50  2022-01-05 02:43:35    \n",
       "4         $GME $AMZN lol assholes look at this hahah  2022-01-05 02:42:56    \n",
       "\n",
       "   likes  retweets hashtag  \n",
       "0    0.0       0.0   $AMZN  \n",
       "1   10.0       0.0   $AMZN  \n",
       "2    0.0       0.0   $AMZN  \n",
       "3    1.0       1.0   $AMZN  \n",
       "4    2.0       0.0   $AMZN  "
      ]
     },
     "execution_count": 23,
     "metadata": {},
     "output_type": "execute_result"
    }
   ],
   "source": [
    "twit_data.head()"
   ]
  },
  {
   "cell_type": "code",
   "execution_count": 24,
   "id": "f6848caa",
   "metadata": {},
   "outputs": [
    {
     "data": {
      "text/html": [
       "<div>\n",
       "<style scoped>\n",
       "    .dataframe tbody tr th:only-of-type {\n",
       "        vertical-align: middle;\n",
       "    }\n",
       "\n",
       "    .dataframe tbody tr th {\n",
       "        vertical-align: top;\n",
       "    }\n",
       "\n",
       "    .dataframe thead th {\n",
       "        text-align: right;\n",
       "    }\n",
       "</style>\n",
       "<table border=\"1\" class=\"dataframe\">\n",
       "  <thead>\n",
       "    <tr style=\"text-align: right;\">\n",
       "      <th></th>\n",
       "      <th>Unnamed: 0</th>\n",
       "      <th>Unnamed: 0.1</th>\n",
       "      <th>body</th>\n",
       "      <th>date</th>\n",
       "      <th>likes</th>\n",
       "      <th>retweets</th>\n",
       "      <th>hashtag</th>\n",
       "      <th>score</th>\n",
       "    </tr>\n",
       "  </thead>\n",
       "  <tbody>\n",
       "    <tr>\n",
       "      <th>0</th>\n",
       "      <td>0</td>\n",
       "      <td>0</td>\n",
       "      <td>$AMZN Simulated 3355.0 dollar CALLS for Wednes...</td>\n",
       "      <td>2022-01-05 03:00:20</td>\n",
       "      <td>0.0</td>\n",
       "      <td>0.0</td>\n",
       "      <td>$AMZN</td>\n",
       "      <td>{'neg': 0.0, 'neu': 1.0, 'pos': 0.0, 'compound...</td>\n",
       "    </tr>\n",
       "    <tr>\n",
       "      <th>1</th>\n",
       "      <td>1</td>\n",
       "      <td>1</td>\n",
       "      <td>$AMZN breakout soon 📢💄💍💎📢</td>\n",
       "      <td>2022-01-05 02:49:55</td>\n",
       "      <td>10.0</td>\n",
       "      <td>0.0</td>\n",
       "      <td>$AMZN</td>\n",
       "      <td>{'neg': 0.0, 'neu': 1.0, 'pos': 0.0, 'compound...</td>\n",
       "    </tr>\n",
       "    <tr>\n",
       "      <th>2</th>\n",
       "      <td>2</td>\n",
       "      <td>2</td>\n",
       "      <td>@M000 I thought TSLA of AR was stretching it a...</td>\n",
       "      <td>2022-01-05 02:46:45</td>\n",
       "      <td>0.0</td>\n",
       "      <td>0.0</td>\n",
       "      <td>$AMZN</td>\n",
       "      <td>{'neg': 0.0, 'neu': 1.0, 'pos': 0.0, 'compound...</td>\n",
       "    </tr>\n",
       "    <tr>\n",
       "      <th>3</th>\n",
       "      <td>3</td>\n",
       "      <td>3</td>\n",
       "      <td>$AMZN Rejected 3343.50</td>\n",
       "      <td>2022-01-05 02:43:35</td>\n",
       "      <td>1.0</td>\n",
       "      <td>1.0</td>\n",
       "      <td>$AMZN</td>\n",
       "      <td>{'neg': 0.623, 'neu': 0.377, 'pos': 0.0, 'comp...</td>\n",
       "    </tr>\n",
       "    <tr>\n",
       "      <th>4</th>\n",
       "      <td>4</td>\n",
       "      <td>4</td>\n",
       "      <td>$GME $AMZN lol assholes look at this hahah</td>\n",
       "      <td>2022-01-05 02:42:56</td>\n",
       "      <td>2.0</td>\n",
       "      <td>0.0</td>\n",
       "      <td>$AMZN</td>\n",
       "      <td>{'neg': 0.302, 'neu': 0.476, 'pos': 0.222, 'co...</td>\n",
       "    </tr>\n",
       "  </tbody>\n",
       "</table>\n",
       "</div>"
      ],
      "text/plain": [
       "   Unnamed: 0  Unnamed: 0.1  \\\n",
       "0           0             0   \n",
       "1           1             1   \n",
       "2           2             2   \n",
       "3           3             3   \n",
       "4           4             4   \n",
       "\n",
       "                                                body                  date  \\\n",
       "0  $AMZN Simulated 3355.0 dollar CALLS for Wednes...  2022-01-05 03:00:20    \n",
       "1                          $AMZN breakout soon 📢💄💍💎📢  2022-01-05 02:49:55    \n",
       "2  @M000 I thought TSLA of AR was stretching it a...  2022-01-05 02:46:45    \n",
       "3                             $AMZN Rejected 3343.50  2022-01-05 02:43:35    \n",
       "4         $GME $AMZN lol assholes look at this hahah  2022-01-05 02:42:56    \n",
       "\n",
       "   likes  retweets hashtag                                              score  \n",
       "0    0.0       0.0   $AMZN  {'neg': 0.0, 'neu': 1.0, 'pos': 0.0, 'compound...  \n",
       "1   10.0       0.0   $AMZN  {'neg': 0.0, 'neu': 1.0, 'pos': 0.0, 'compound...  \n",
       "2    0.0       0.0   $AMZN  {'neg': 0.0, 'neu': 1.0, 'pos': 0.0, 'compound...  \n",
       "3    1.0       1.0   $AMZN  {'neg': 0.623, 'neu': 0.377, 'pos': 0.0, 'comp...  \n",
       "4    2.0       0.0   $AMZN  {'neg': 0.302, 'neu': 0.476, 'pos': 0.222, 'co...  "
      ]
     },
     "execution_count": 24,
     "metadata": {},
     "output_type": "execute_result"
    }
   ],
   "source": [
    "twit_data['score'] = twit_data['body'].apply(lambda review: sid.polarity_scores(review))\n",
    "\n",
    "twit_data.head()"
   ]
  },
  {
   "cell_type": "code",
   "execution_count": 25,
   "id": "92dcb797",
   "metadata": {
    "scrolled": false
   },
   "outputs": [
    {
     "data": {
      "text/html": [
       "<div>\n",
       "<style scoped>\n",
       "    .dataframe tbody tr th:only-of-type {\n",
       "        vertical-align: middle;\n",
       "    }\n",
       "\n",
       "    .dataframe tbody tr th {\n",
       "        vertical-align: top;\n",
       "    }\n",
       "\n",
       "    .dataframe thead th {\n",
       "        text-align: right;\n",
       "    }\n",
       "</style>\n",
       "<table border=\"1\" class=\"dataframe\">\n",
       "  <thead>\n",
       "    <tr style=\"text-align: right;\">\n",
       "      <th></th>\n",
       "      <th>Unnamed: 0</th>\n",
       "      <th>Unnamed: 0.1</th>\n",
       "      <th>body</th>\n",
       "      <th>date</th>\n",
       "      <th>likes</th>\n",
       "      <th>retweets</th>\n",
       "      <th>hashtag</th>\n",
       "      <th>score</th>\n",
       "      <th>compound</th>\n",
       "    </tr>\n",
       "  </thead>\n",
       "  <tbody>\n",
       "    <tr>\n",
       "      <th>0</th>\n",
       "      <td>0</td>\n",
       "      <td>0</td>\n",
       "      <td>$AMZN Simulated 3355.0 dollar CALLS for Wednes...</td>\n",
       "      <td>2022-01-05 03:00:20</td>\n",
       "      <td>0.0</td>\n",
       "      <td>0.0</td>\n",
       "      <td>$AMZN</td>\n",
       "      <td>{'neg': 0.0, 'neu': 1.0, 'pos': 0.0, 'compound...</td>\n",
       "      <td>0.0000</td>\n",
       "    </tr>\n",
       "    <tr>\n",
       "      <th>1</th>\n",
       "      <td>1</td>\n",
       "      <td>1</td>\n",
       "      <td>$AMZN breakout soon 📢💄💍💎📢</td>\n",
       "      <td>2022-01-05 02:49:55</td>\n",
       "      <td>10.0</td>\n",
       "      <td>0.0</td>\n",
       "      <td>$AMZN</td>\n",
       "      <td>{'neg': 0.0, 'neu': 1.0, 'pos': 0.0, 'compound...</td>\n",
       "      <td>0.0000</td>\n",
       "    </tr>\n",
       "    <tr>\n",
       "      <th>2</th>\n",
       "      <td>2</td>\n",
       "      <td>2</td>\n",
       "      <td>@M000 I thought TSLA of AR was stretching it a...</td>\n",
       "      <td>2022-01-05 02:46:45</td>\n",
       "      <td>0.0</td>\n",
       "      <td>0.0</td>\n",
       "      <td>$AMZN</td>\n",
       "      <td>{'neg': 0.0, 'neu': 1.0, 'pos': 0.0, 'compound...</td>\n",
       "      <td>0.0000</td>\n",
       "    </tr>\n",
       "    <tr>\n",
       "      <th>3</th>\n",
       "      <td>3</td>\n",
       "      <td>3</td>\n",
       "      <td>$AMZN Rejected 3343.50</td>\n",
       "      <td>2022-01-05 02:43:35</td>\n",
       "      <td>1.0</td>\n",
       "      <td>1.0</td>\n",
       "      <td>$AMZN</td>\n",
       "      <td>{'neg': 0.623, 'neu': 0.377, 'pos': 0.0, 'comp...</td>\n",
       "      <td>-0.5106</td>\n",
       "    </tr>\n",
       "    <tr>\n",
       "      <th>4</th>\n",
       "      <td>4</td>\n",
       "      <td>4</td>\n",
       "      <td>$GME $AMZN lol assholes look at this hahah</td>\n",
       "      <td>2022-01-05 02:42:56</td>\n",
       "      <td>2.0</td>\n",
       "      <td>0.0</td>\n",
       "      <td>$AMZN</td>\n",
       "      <td>{'neg': 0.302, 'neu': 0.476, 'pos': 0.222, 'co...</td>\n",
       "      <td>-0.2500</td>\n",
       "    </tr>\n",
       "  </tbody>\n",
       "</table>\n",
       "</div>"
      ],
      "text/plain": [
       "   Unnamed: 0  Unnamed: 0.1  \\\n",
       "0           0             0   \n",
       "1           1             1   \n",
       "2           2             2   \n",
       "3           3             3   \n",
       "4           4             4   \n",
       "\n",
       "                                                body                  date  \\\n",
       "0  $AMZN Simulated 3355.0 dollar CALLS for Wednes...  2022-01-05 03:00:20    \n",
       "1                          $AMZN breakout soon 📢💄💍💎📢  2022-01-05 02:49:55    \n",
       "2  @M000 I thought TSLA of AR was stretching it a...  2022-01-05 02:46:45    \n",
       "3                             $AMZN Rejected 3343.50  2022-01-05 02:43:35    \n",
       "4         $GME $AMZN lol assholes look at this hahah  2022-01-05 02:42:56    \n",
       "\n",
       "   likes  retweets hashtag                                              score  \\\n",
       "0    0.0       0.0   $AMZN  {'neg': 0.0, 'neu': 1.0, 'pos': 0.0, 'compound...   \n",
       "1   10.0       0.0   $AMZN  {'neg': 0.0, 'neu': 1.0, 'pos': 0.0, 'compound...   \n",
       "2    0.0       0.0   $AMZN  {'neg': 0.0, 'neu': 1.0, 'pos': 0.0, 'compound...   \n",
       "3    1.0       1.0   $AMZN  {'neg': 0.623, 'neu': 0.377, 'pos': 0.0, 'comp...   \n",
       "4    2.0       0.0   $AMZN  {'neg': 0.302, 'neu': 0.476, 'pos': 0.222, 'co...   \n",
       "\n",
       "   compound  \n",
       "0    0.0000  \n",
       "1    0.0000  \n",
       "2    0.0000  \n",
       "3   -0.5106  \n",
       "4   -0.2500  "
      ]
     },
     "execution_count": 25,
     "metadata": {},
     "output_type": "execute_result"
    }
   ],
   "source": [
    "twit_data['compound']  = twit_data['score'].apply(lambda score_dict: score_dict['compound'])\n",
    "\n",
    "twit_data.head()"
   ]
  },
  {
   "cell_type": "code",
   "execution_count": 31,
   "id": "cf71060e",
   "metadata": {},
   "outputs": [],
   "source": [
    "        twit_data['Weights'] = twit_data.apply(lambda row: (0.01\n",
    "                                          if row['likes'] == 0 and row['retweets'] == 0\n",
    "                                          else (int(row['likes'])+int(row['retweets']))*10\n",
    "                                                     ), axis=1)\n",
    "        twit_data['Total_Weighted_Score'] = twit_data.apply(lambda row: (row['compound']* row['Weights']),\n",
    "        axis=1)"
   ]
  },
  {
   "cell_type": "code",
   "execution_count": 32,
   "id": "6028d45d",
   "metadata": {},
   "outputs": [
    {
     "data": {
      "text/html": [
       "<div>\n",
       "<style scoped>\n",
       "    .dataframe tbody tr th:only-of-type {\n",
       "        vertical-align: middle;\n",
       "    }\n",
       "\n",
       "    .dataframe tbody tr th {\n",
       "        vertical-align: top;\n",
       "    }\n",
       "\n",
       "    .dataframe thead th {\n",
       "        text-align: right;\n",
       "    }\n",
       "</style>\n",
       "<table border=\"1\" class=\"dataframe\">\n",
       "  <thead>\n",
       "    <tr style=\"text-align: right;\">\n",
       "      <th></th>\n",
       "      <th>body</th>\n",
       "      <th>date</th>\n",
       "      <th>likes</th>\n",
       "      <th>retweets</th>\n",
       "      <th>hashtag</th>\n",
       "      <th>score</th>\n",
       "      <th>compound</th>\n",
       "      <th>Weights</th>\n",
       "      <th>Total_Weighted_Score</th>\n",
       "    </tr>\n",
       "  </thead>\n",
       "  <tbody>\n",
       "    <tr>\n",
       "      <th>0</th>\n",
       "      <td>$AMZN Simulated 3355.0 dollar CALLS for Wednes...</td>\n",
       "      <td>2022-01-05 03:00:20</td>\n",
       "      <td>0.0</td>\n",
       "      <td>0.0</td>\n",
       "      <td>$AMZN</td>\n",
       "      <td>{'neg': 0.0, 'neu': 1.0, 'pos': 0.0, 'compound...</td>\n",
       "      <td>0.0000</td>\n",
       "      <td>0.01</td>\n",
       "      <td>0.000000</td>\n",
       "    </tr>\n",
       "    <tr>\n",
       "      <th>1</th>\n",
       "      <td>$AMZN breakout soon 📢💄💍💎📢</td>\n",
       "      <td>2022-01-05 02:49:55</td>\n",
       "      <td>10.0</td>\n",
       "      <td>0.0</td>\n",
       "      <td>$AMZN</td>\n",
       "      <td>{'neg': 0.0, 'neu': 1.0, 'pos': 0.0, 'compound...</td>\n",
       "      <td>0.0000</td>\n",
       "      <td>100.00</td>\n",
       "      <td>0.000000</td>\n",
       "    </tr>\n",
       "    <tr>\n",
       "      <th>2</th>\n",
       "      <td>@M000 I thought TSLA of AR was stretching it a...</td>\n",
       "      <td>2022-01-05 02:46:45</td>\n",
       "      <td>0.0</td>\n",
       "      <td>0.0</td>\n",
       "      <td>$AMZN</td>\n",
       "      <td>{'neg': 0.0, 'neu': 1.0, 'pos': 0.0, 'compound...</td>\n",
       "      <td>0.0000</td>\n",
       "      <td>0.01</td>\n",
       "      <td>0.000000</td>\n",
       "    </tr>\n",
       "    <tr>\n",
       "      <th>3</th>\n",
       "      <td>$AMZN Rejected 3343.50</td>\n",
       "      <td>2022-01-05 02:43:35</td>\n",
       "      <td>1.0</td>\n",
       "      <td>1.0</td>\n",
       "      <td>$AMZN</td>\n",
       "      <td>{'neg': 0.623, 'neu': 0.377, 'pos': 0.0, 'comp...</td>\n",
       "      <td>-0.5106</td>\n",
       "      <td>20.00</td>\n",
       "      <td>-10.212000</td>\n",
       "    </tr>\n",
       "    <tr>\n",
       "      <th>4</th>\n",
       "      <td>$GME $AMZN lol assholes look at this hahah</td>\n",
       "      <td>2022-01-05 02:42:56</td>\n",
       "      <td>2.0</td>\n",
       "      <td>0.0</td>\n",
       "      <td>$AMZN</td>\n",
       "      <td>{'neg': 0.302, 'neu': 0.476, 'pos': 0.222, 'co...</td>\n",
       "      <td>-0.2500</td>\n",
       "      <td>20.00</td>\n",
       "      <td>-5.000000</td>\n",
       "    </tr>\n",
       "    <tr>\n",
       "      <th>...</th>\n",
       "      <td>...</td>\n",
       "      <td>...</td>\n",
       "      <td>...</td>\n",
       "      <td>...</td>\n",
       "      <td>...</td>\n",
       "      <td>...</td>\n",
       "      <td>...</td>\n",
       "      <td>...</td>\n",
       "      <td>...</td>\n",
       "    </tr>\n",
       "    <tr>\n",
       "      <th>479987</th>\n",
       "      <td>$AAPL break 171 and she flushes</td>\n",
       "      <td>2022-02-04 15:55:21</td>\n",
       "      <td>2.0</td>\n",
       "      <td>0.0</td>\n",
       "      <td>$AAPL</td>\n",
       "      <td>{'neg': 0.0, 'neu': 1.0, 'pos': 0.0, 'compound...</td>\n",
       "      <td>0.0000</td>\n",
       "      <td>20.00</td>\n",
       "      <td>0.000000</td>\n",
       "    </tr>\n",
       "    <tr>\n",
       "      <th>479988</th>\n",
       "      <td>$AAPL is a growth stock now?</td>\n",
       "      <td>2022-02-04 15:55:07</td>\n",
       "      <td>0.0</td>\n",
       "      <td>0.0</td>\n",
       "      <td>$AAPL</td>\n",
       "      <td>{'neg': 0.0, 'neu': 0.606, 'pos': 0.394, 'comp...</td>\n",
       "      <td>0.3818</td>\n",
       "      <td>0.01</td>\n",
       "      <td>0.003818</td>\n",
       "    </tr>\n",
       "    <tr>\n",
       "      <th>479989</th>\n",
       "      <td>$AAPL  🍏 Do you know what time it is…yep</td>\n",
       "      <td>2022-02-04 15:53:16</td>\n",
       "      <td>0.0</td>\n",
       "      <td>0.0</td>\n",
       "      <td>$AAPL</td>\n",
       "      <td>{'neg': 0.0, 'neu': 1.0, 'pos': 0.0, 'compound...</td>\n",
       "      <td>0.0000</td>\n",
       "      <td>0.01</td>\n",
       "      <td>0.000000</td>\n",
       "    </tr>\n",
       "    <tr>\n",
       "      <th>479990</th>\n",
       "      <td>$AAPL lol u buy the dip on it</td>\n",
       "      <td>2022-02-04 15:53:11</td>\n",
       "      <td>0.0</td>\n",
       "      <td>0.0</td>\n",
       "      <td>$AAPL</td>\n",
       "      <td>{'neg': 0.0, 'neu': 0.682, 'pos': 0.318, 'comp...</td>\n",
       "      <td>0.4215</td>\n",
       "      <td>0.01</td>\n",
       "      <td>0.004215</td>\n",
       "    </tr>\n",
       "    <tr>\n",
       "      <th>479991</th>\n",
       "      <td>$AAPL I am short here now</td>\n",
       "      <td>2022-02-04 15:53:07</td>\n",
       "      <td>0.0</td>\n",
       "      <td>0.0</td>\n",
       "      <td>$AAPL</td>\n",
       "      <td>{'neg': 0.0, 'neu': 1.0, 'pos': 0.0, 'compound...</td>\n",
       "      <td>0.0000</td>\n",
       "      <td>0.01</td>\n",
       "      <td>0.000000</td>\n",
       "    </tr>\n",
       "  </tbody>\n",
       "</table>\n",
       "<p>926988 rows × 9 columns</p>\n",
       "</div>"
      ],
      "text/plain": [
       "                                                     body  \\\n",
       "0       $AMZN Simulated 3355.0 dollar CALLS for Wednes...   \n",
       "1                               $AMZN breakout soon 📢💄💍💎📢   \n",
       "2       @M000 I thought TSLA of AR was stretching it a...   \n",
       "3                                  $AMZN Rejected 3343.50   \n",
       "4              $GME $AMZN lol assholes look at this hahah   \n",
       "...                                                   ...   \n",
       "479987                    $AAPL break 171 and she flushes   \n",
       "479988                       $AAPL is a growth stock now?   \n",
       "479989           $AAPL  🍏 Do you know what time it is…yep   \n",
       "479990                      $AAPL lol u buy the dip on it   \n",
       "479991                          $AAPL I am short here now   \n",
       "\n",
       "                        date  likes  retweets hashtag  \\\n",
       "0       2022-01-05 03:00:20     0.0       0.0   $AMZN   \n",
       "1       2022-01-05 02:49:55    10.0       0.0   $AMZN   \n",
       "2       2022-01-05 02:46:45     0.0       0.0   $AMZN   \n",
       "3       2022-01-05 02:43:35     1.0       1.0   $AMZN   \n",
       "4       2022-01-05 02:42:56     2.0       0.0   $AMZN   \n",
       "...                      ...    ...       ...     ...   \n",
       "479987  2022-02-04 15:55:21     2.0       0.0   $AAPL   \n",
       "479988  2022-02-04 15:55:07     0.0       0.0   $AAPL   \n",
       "479989  2022-02-04 15:53:16     0.0       0.0   $AAPL   \n",
       "479990  2022-02-04 15:53:11     0.0       0.0   $AAPL   \n",
       "479991  2022-02-04 15:53:07     0.0       0.0   $AAPL   \n",
       "\n",
       "                                                    score  compound  Weights  \\\n",
       "0       {'neg': 0.0, 'neu': 1.0, 'pos': 0.0, 'compound...    0.0000     0.01   \n",
       "1       {'neg': 0.0, 'neu': 1.0, 'pos': 0.0, 'compound...    0.0000   100.00   \n",
       "2       {'neg': 0.0, 'neu': 1.0, 'pos': 0.0, 'compound...    0.0000     0.01   \n",
       "3       {'neg': 0.623, 'neu': 0.377, 'pos': 0.0, 'comp...   -0.5106    20.00   \n",
       "4       {'neg': 0.302, 'neu': 0.476, 'pos': 0.222, 'co...   -0.2500    20.00   \n",
       "...                                                   ...       ...      ...   \n",
       "479987  {'neg': 0.0, 'neu': 1.0, 'pos': 0.0, 'compound...    0.0000    20.00   \n",
       "479988  {'neg': 0.0, 'neu': 0.606, 'pos': 0.394, 'comp...    0.3818     0.01   \n",
       "479989  {'neg': 0.0, 'neu': 1.0, 'pos': 0.0, 'compound...    0.0000     0.01   \n",
       "479990  {'neg': 0.0, 'neu': 0.682, 'pos': 0.318, 'comp...    0.4215     0.01   \n",
       "479991  {'neg': 0.0, 'neu': 1.0, 'pos': 0.0, 'compound...    0.0000     0.01   \n",
       "\n",
       "        Total_Weighted_Score  \n",
       "0                   0.000000  \n",
       "1                   0.000000  \n",
       "2                   0.000000  \n",
       "3                 -10.212000  \n",
       "4                  -5.000000  \n",
       "...                      ...  \n",
       "479987              0.000000  \n",
       "479988              0.003818  \n",
       "479989              0.000000  \n",
       "479990              0.004215  \n",
       "479991              0.000000  \n",
       "\n",
       "[926988 rows x 9 columns]"
      ]
     },
     "execution_count": 32,
     "metadata": {},
     "output_type": "execute_result"
    }
   ],
   "source": [
    "twit_data"
   ]
  },
  {
   "cell_type": "code",
   "execution_count": null,
   "id": "2f3739d3",
   "metadata": {},
   "outputs": [],
   "source": []
  },
  {
   "cell_type": "code",
   "execution_count": null,
   "id": "7bb4cd20",
   "metadata": {},
   "outputs": [],
   "source": [
    "stocks = ['AAPL', 'AMZN', 'FB', 'NFLX', 'GOOG']"
   ]
  },
  {
   "cell_type": "code",
   "execution_count": 35,
   "id": "df76ab08",
   "metadata": {},
   "outputs": [
    {
     "name": "stderr",
     "output_type": "stream",
     "text": [
      "[nltk_data] Downloading package vader_lexicon to\n",
      "[nltk_data]     C:\\Users\\natal\\AppData\\Roaming\\nltk_data...\n",
      "[nltk_data]   Package vader_lexicon is already up-to-date!\n"
     ]
    }
   ],
   "source": [
    "warnings.filterwarnings(\"ignore\")\n",
    "nltk.download('vader_lexicon')\n",
    "warnings.filterwarnings(\"ignore\")"
   ]
  },
  {
   "cell_type": "code",
   "execution_count": 55,
   "id": "cbf834fa",
   "metadata": {},
   "outputs": [],
   "source": [
    " def vaderScoreGenerator(tw_sent):\n",
    "        '''\n",
    "        This function takes in the dataframe that we appeneded earlier and computes the sentiment\n",
    "        scores and extracts the polarity scores using the Vader Sentiment Analyzer\n",
    "        '''\n",
    "        sia = SentimentIntensityAnalyzer()\n",
    "        tw_sent['Negative'] = tw_sent['Content'].apply(lambda x:sia.polarity_scores(str(x))['neg'])\n",
    "        tw_sent['Neutral'] = tw_sent['Content'].apply(lambda x:sia.polarity_scores(str(x))['neu'])\n",
    "        tw_sent['Positive'] = tw_sent['Content'].apply(lambda x:sia.polarity_scores(str(x))['pos'])\n",
    "        tw_sent['Compound'] = tw_sent['Content'].apply(lambda x:sia.polarity_scores(str(x))\n",
    "        ['compound'])\n",
    "\n"
   ]
  },
  {
   "cell_type": "code",
   "execution_count": 56,
   "id": "f2e119ec",
   "metadata": {},
   "outputs": [],
   "source": [
    "def get_subset(stocks, tw_sent):\n",
    "            '''\n",
    "            This function apparently takes the stock name and the data frame that we read above\n",
    "            and subseqiuently returns the mastert ticker\n",
    "            '''\n",
    "            df_master_ticker = twit_data.loc[twit_data['hashtag'] == stocks]\n",
    "            return df_master_ticker\n",
    "\n"
   ]
  },
  {
   "cell_type": "code",
   "execution_count": 57,
   "id": "a92e1b82",
   "metadata": {},
   "outputs": [],
   "source": [
    "    def appendToMaster(tw_sent):\n",
    "        '''\n",
    "        This function apparently takes the data frame that we preprocessed earlier and appends it \n",
    "        to the master csv file that we have been collecting.\n",
    "        '''\n",
    "        df_master_ticker.to_csv('Twitter_Data_Master.csv',\n",
    "        mode='a', header=False)"
   ]
  },
  {
   "cell_type": "code",
   "execution_count": 58,
   "id": "6d05cf40",
   "metadata": {},
   "outputs": [],
   "source": [
    "    def generateDataforEachStock():\n",
    "        '''\n",
    "        This function essentially reads the master csv file reads it and subsets the ticker\n",
    "        to get the average sentiment score overall.\n",
    "        '''\n",
    "        df_twitter_master = pd.read_csv(\"Twitter_Data_Master.csv\")"
   ]
  },
  {
   "cell_type": "code",
   "execution_count": 61,
   "id": "a3ccfa40",
   "metadata": {},
   "outputs": [
    {
     "ename": "SyntaxError",
     "evalue": "'return' outside function (Temp/ipykernel_872/1325588373.py, line 14)",
     "output_type": "error",
     "traceback": [
      "\u001b[1;36m  File \u001b[1;32m\"C:\\Users\\natal\\AppData\\Local\\Temp/ipykernel_872/1325588373.py\"\u001b[1;36m, line \u001b[1;32m14\u001b[0m\n\u001b[1;33m    return df_grp\u001b[0m\n\u001b[1;37m    ^\u001b[0m\n\u001b[1;31mSyntaxError\u001b[0m\u001b[1;31m:\u001b[0m 'return' outside function\n"
     ]
    }
   ],
   "source": [
    "\n",
    "        def get_score(tw_sent):\n",
    "            '''\n",
    "            This function groups the total weighted score metric by date and aggreates it by sum\n",
    "            We then return the dataframe which gives the mean sentiment score of a particular stock \n",
    "            '''\n",
    "            df_grp = tw_sent.groupby('date')['Total_Weighted_Score'].aggregate(['sum',\n",
    "            'count'])\n",
    "            df_grp['Sentiment_Score'] = df_grp.apply(lambda x: (x['sum']/x['count']), axis=1)\n",
    "            return df_grp\n",
    "\n",
    "\n",
    "        df_re = get_subset('$AAPL', tw_sent)\n",
    "        df_grp = get_score(df_re)\n",
    "        return df_grp"
   ]
  },
  {
   "cell_type": "code",
   "execution_count": null,
   "id": "2f102189",
   "metadata": {},
   "outputs": [],
   "source": []
  },
  {
   "cell_type": "code",
   "execution_count": null,
   "id": "7d97d6de",
   "metadata": {},
   "outputs": [],
   "source": []
  },
  {
   "cell_type": "code",
   "execution_count": null,
   "id": "befcbbcf",
   "metadata": {},
   "outputs": [],
   "source": []
  },
  {
   "cell_type": "code",
   "execution_count": null,
   "id": "95d094de",
   "metadata": {},
   "outputs": [],
   "source": [
    "csvFile = open('NFLX_N.csv', 'a')\n",
    "\n",
    "csvWriter = csv.writer(csvFile)\n",
    "\n",
    "query = \"$NFLX\"\n",
    "\n",
    "for tweet in tw.Cursor(api.search_tweets,\n",
    "                       q=query,\n",
    "                       lang=\"en\",\n",
    "                       since=start,\n",
    "                       result_type=\"recent\"\n",
    "                       ).items():\n",
    "\n",
    "    csvWriter.writerow([tweet.created_at, tweet.text.encode('utf-8')])\n",
    "    print(tweet.created_at, tweet.text)\n",
    "csvFile.close()"
   ]
  },
  {
   "cell_type": "code",
   "execution_count": null,
   "id": "c531f782",
   "metadata": {},
   "outputs": [],
   "source": [
    "csvFile = open('GOOG.csv', 'a')\n",
    "\n",
    "csvWriter = csv.writer(csvFile)\n",
    "\n",
    "start = \"2022-01-01\"\n",
    "end = \"2021-12-31\"\n",
    "query = \"$GOOG\"\n",
    "\n",
    "for tweet in tw.Cursor(api.search_tweets,\n",
    "                       q=query,\n",
    "                       lang=\"en\",\n",
    "                       since=start,\n",
    "                       result_type=\"recent\"\n",
    "                       ).items():\n",
    "\n",
    "    csvWriter.writerow([tweet.created_at, tweet.retweeted, tweet.favorited, tweet.text.encode('utf-8')])\n",
    "    print(tweet.created_at, tweet.retweeted, tweet.favorited, tweet.text)\n",
    "csvFile.close()"
   ]
  },
  {
   "cell_type": "code",
   "execution_count": null,
   "id": "0ea8b01e",
   "metadata": {},
   "outputs": [],
   "source": [
    "GOOG = pd.read_csv(\"GOOG.csv\")\n",
    "GOOG"
   ]
  },
  {
   "cell_type": "code",
   "execution_count": 47,
   "id": "15b146ad",
   "metadata": {},
   "outputs": [],
   "source": [
    "tw_1 = pd.read_csv(\"AAPL.csv\").astype(str)\n",
    "tw_2 = pd.read_csv(\"AMZN.csv\").astype(str)\n",
    "tw_4 = pd.read_csv(\"NFLX.csv\").astype(str)\n",
    "tw_5 = pd.read_csv(\"GOOG.csv\").astype(str)"
   ]
  },
  {
   "cell_type": "code",
   "execution_count": 48,
   "id": "17252baf",
   "metadata": {},
   "outputs": [],
   "source": [
    "tw_3 = pd.read_csv(\"FB.csv\").astype(str)\n"
   ]
  },
  {
   "cell_type": "code",
   "execution_count": 49,
   "id": "985f1b01",
   "metadata": {},
   "outputs": [
    {
     "data": {
      "text/html": [
       "<div>\n",
       "<style scoped>\n",
       "    .dataframe tbody tr th:only-of-type {\n",
       "        vertical-align: middle;\n",
       "    }\n",
       "\n",
       "    .dataframe tbody tr th {\n",
       "        vertical-align: top;\n",
       "    }\n",
       "\n",
       "    .dataframe thead th {\n",
       "        text-align: right;\n",
       "    }\n",
       "</style>\n",
       "<table border=\"1\" class=\"dataframe\">\n",
       "  <thead>\n",
       "    <tr style=\"text-align: right;\">\n",
       "      <th></th>\n",
       "      <th>Date/Time</th>\n",
       "      <th>Hashtag</th>\n",
       "      <th>Content</th>\n",
       "    </tr>\n",
       "  </thead>\n",
       "  <tbody>\n",
       "    <tr>\n",
       "      <th>0</th>\n",
       "      <td>2022-05-09 21:25:01+00:00</td>\n",
       "      <td>$AAPL</td>\n",
       "      <td>b'$TSLA to 650 by Thursday. \\n$TWTR to 42 by F...</td>\n",
       "    </tr>\n",
       "    <tr>\n",
       "      <th>1</th>\n",
       "      <td>2022-05-09 21:24:45+00:00</td>\n",
       "      <td>$AAPL</td>\n",
       "      <td>b'Count of mentions for the tickers in last 1 ...</td>\n",
       "    </tr>\n",
       "    <tr>\n",
       "      <th>2</th>\n",
       "      <td>2022-05-09 21:24:36+00:00</td>\n",
       "      <td>$AAPL</td>\n",
       "      <td>b'@huntdividends $AAPL $MSFT $V \\n\\n1 share ea...</td>\n",
       "    </tr>\n",
       "    <tr>\n",
       "      <th>3</th>\n",
       "      <td>2022-05-09 21:24:09+00:00</td>\n",
       "      <td>$AAPL</td>\n",
       "      <td>b'@davidgandler bravo. So proud that you sold ...</td>\n",
       "    </tr>\n",
       "    <tr>\n",
       "      <th>4</th>\n",
       "      <td>2022-05-09 21:23:14+00:00</td>\n",
       "      <td>$AAPL</td>\n",
       "      <td>b'RT @MoMo_A1Trader: So biggest money maker wa...</td>\n",
       "    </tr>\n",
       "    <tr>\n",
       "      <th>...</th>\n",
       "      <td>...</td>\n",
       "      <td>...</td>\n",
       "      <td>...</td>\n",
       "    </tr>\n",
       "    <tr>\n",
       "      <th>4227</th>\n",
       "      <td>2022-05-08 22:15:06+00:00</td>\n",
       "      <td>$AAPL</td>\n",
       "      <td>b'@ashwinibirla @amazonholder1 @ThanosCapital ...</td>\n",
       "    </tr>\n",
       "    <tr>\n",
       "      <th>4228</th>\n",
       "      <td>2022-05-08 22:14:45+00:00</td>\n",
       "      <td>$AAPL</td>\n",
       "      <td>b'RT @jonnajarian: $AAPL Airpod revenue versus...</td>\n",
       "    </tr>\n",
       "    <tr>\n",
       "      <th>4229</th>\n",
       "      <td>2022-05-08 22:13:54+00:00</td>\n",
       "      <td>$AAPL</td>\n",
       "      <td>b'RT @StockMKTNewz: Apple $AAPL should change ...</td>\n",
       "    </tr>\n",
       "    <tr>\n",
       "      <th>4230</th>\n",
       "      <td>2022-05-08 22:12:57+00:00</td>\n",
       "      <td>$AAPL</td>\n",
       "      <td>b'RT @jonnajarian: $AAPL Airpod revenue versus...</td>\n",
       "    </tr>\n",
       "    <tr>\n",
       "      <th>4231</th>\n",
       "      <td>2022-05-08 22:12:30+00:00</td>\n",
       "      <td>$AAPL</td>\n",
       "      <td>b'RT @jonnajarian: $AAPL Airpod revenue versus...</td>\n",
       "    </tr>\n",
       "  </tbody>\n",
       "</table>\n",
       "<p>4232 rows × 3 columns</p>\n",
       "</div>"
      ],
      "text/plain": [
       "                      Date/Time Hashtag  \\\n",
       "0     2022-05-09 21:25:01+00:00   $AAPL   \n",
       "1     2022-05-09 21:24:45+00:00   $AAPL   \n",
       "2     2022-05-09 21:24:36+00:00   $AAPL   \n",
       "3     2022-05-09 21:24:09+00:00   $AAPL   \n",
       "4     2022-05-09 21:23:14+00:00   $AAPL   \n",
       "...                         ...     ...   \n",
       "4227  2022-05-08 22:15:06+00:00   $AAPL   \n",
       "4228  2022-05-08 22:14:45+00:00   $AAPL   \n",
       "4229  2022-05-08 22:13:54+00:00   $AAPL   \n",
       "4230  2022-05-08 22:12:57+00:00   $AAPL   \n",
       "4231  2022-05-08 22:12:30+00:00   $AAPL   \n",
       "\n",
       "                                                Content  \n",
       "0     b'$TSLA to 650 by Thursday. \\n$TWTR to 42 by F...  \n",
       "1     b'Count of mentions for the tickers in last 1 ...  \n",
       "2     b'@huntdividends $AAPL $MSFT $V \\n\\n1 share ea...  \n",
       "3     b'@davidgandler bravo. So proud that you sold ...  \n",
       "4     b'RT @MoMo_A1Trader: So biggest money maker wa...  \n",
       "...                                                 ...  \n",
       "4227  b'@ashwinibirla @amazonholder1 @ThanosCapital ...  \n",
       "4228  b'RT @jonnajarian: $AAPL Airpod revenue versus...  \n",
       "4229  b'RT @StockMKTNewz: Apple $AAPL should change ...  \n",
       "4230  b'RT @jonnajarian: $AAPL Airpod revenue versus...  \n",
       "4231  b'RT @jonnajarian: $AAPL Airpod revenue versus...  \n",
       "\n",
       "[4232 rows x 3 columns]"
      ]
     },
     "execution_count": 49,
     "metadata": {},
     "output_type": "execute_result"
    }
   ],
   "source": [
    "tw_1"
   ]
  },
  {
   "cell_type": "code",
   "execution_count": 50,
   "id": "ea13e82f",
   "metadata": {},
   "outputs": [],
   "source": [
    "tw_sent = pd.concat([tw_1, tw_2, tw_3, tw_4, tw_5], axis=0)"
   ]
  },
  {
   "cell_type": "code",
   "execution_count": 53,
   "id": "cac7dcbc",
   "metadata": {
    "scrolled": true
   },
   "outputs": [
    {
     "data": {
      "text/html": [
       "<div>\n",
       "<style scoped>\n",
       "    .dataframe tbody tr th:only-of-type {\n",
       "        vertical-align: middle;\n",
       "    }\n",
       "\n",
       "    .dataframe tbody tr th {\n",
       "        vertical-align: top;\n",
       "    }\n",
       "\n",
       "    .dataframe thead th {\n",
       "        text-align: right;\n",
       "    }\n",
       "</style>\n",
       "<table border=\"1\" class=\"dataframe\">\n",
       "  <thead>\n",
       "    <tr style=\"text-align: right;\">\n",
       "      <th></th>\n",
       "      <th>Date/Time</th>\n",
       "      <th>Hashtag</th>\n",
       "      <th>Content</th>\n",
       "      <th>Content</th>\n",
       "      <th>Unnamed: 3</th>\n",
       "    </tr>\n",
       "  </thead>\n",
       "  <tbody>\n",
       "    <tr>\n",
       "      <th>0</th>\n",
       "      <td>2022-05-09 21:25:01+00:00</td>\n",
       "      <td>$AAPL</td>\n",
       "      <td>b'$TSLA to 650 by Thursday. \\n$TWTR to 42 by F...</td>\n",
       "      <td>NaN</td>\n",
       "      <td>NaN</td>\n",
       "    </tr>\n",
       "    <tr>\n",
       "      <th>1</th>\n",
       "      <td>2022-05-09 21:24:45+00:00</td>\n",
       "      <td>$AAPL</td>\n",
       "      <td>b'Count of mentions for the tickers in last 1 ...</td>\n",
       "      <td>NaN</td>\n",
       "      <td>NaN</td>\n",
       "    </tr>\n",
       "    <tr>\n",
       "      <th>2</th>\n",
       "      <td>2022-05-09 21:24:36+00:00</td>\n",
       "      <td>$AAPL</td>\n",
       "      <td>b'@huntdividends $AAPL $MSFT $V \\n\\n1 share ea...</td>\n",
       "      <td>NaN</td>\n",
       "      <td>NaN</td>\n",
       "    </tr>\n",
       "    <tr>\n",
       "      <th>3</th>\n",
       "      <td>2022-05-09 21:24:09+00:00</td>\n",
       "      <td>$AAPL</td>\n",
       "      <td>b'@davidgandler bravo. So proud that you sold ...</td>\n",
       "      <td>NaN</td>\n",
       "      <td>NaN</td>\n",
       "    </tr>\n",
       "    <tr>\n",
       "      <th>4</th>\n",
       "      <td>2022-05-09 21:23:14+00:00</td>\n",
       "      <td>$AAPL</td>\n",
       "      <td>b'RT @MoMo_A1Trader: So biggest money maker wa...</td>\n",
       "      <td>NaN</td>\n",
       "      <td>NaN</td>\n",
       "    </tr>\n",
       "    <tr>\n",
       "      <th>...</th>\n",
       "      <td>...</td>\n",
       "      <td>...</td>\n",
       "      <td>...</td>\n",
       "      <td>...</td>\n",
       "      <td>...</td>\n",
       "    </tr>\n",
       "    <tr>\n",
       "      <th>4968</th>\n",
       "      <td>2022-04-29 23:59:43+00:00</td>\n",
       "      <td>$GOOG</td>\n",
       "      <td>b\"@Whitey102796 @coinbase @RobinhoodApp I agre...</td>\n",
       "      <td>NaN</td>\n",
       "      <td>NaN</td>\n",
       "    </tr>\n",
       "    <tr>\n",
       "      <th>4969</th>\n",
       "      <td>2022-04-29 23:52:07+00:00</td>\n",
       "      <td>$GOOG</td>\n",
       "      <td>b'RT @ETFStockReport: #Stockmarket @ETFStockRe...</td>\n",
       "      <td>NaN</td>\n",
       "      <td>NaN</td>\n",
       "    </tr>\n",
       "    <tr>\n",
       "      <th>4970</th>\n",
       "      <td>2022-04-29 23:51:46+00:00</td>\n",
       "      <td>$GOOG</td>\n",
       "      <td>b'Panic Attack  \\n$SPX $SPY $IWM $AAPL $AMZN $...</td>\n",
       "      <td>NaN</td>\n",
       "      <td>NaN</td>\n",
       "    </tr>\n",
       "    <tr>\n",
       "      <th>4971</th>\n",
       "      <td>2022-04-29 23:51:31+00:00</td>\n",
       "      <td>$GOOG</td>\n",
       "      <td>b'RT @ETFStockReport: #Stockmarket @ETFStockRe...</td>\n",
       "      <td>NaN</td>\n",
       "      <td>NaN</td>\n",
       "    </tr>\n",
       "    <tr>\n",
       "      <th>4972</th>\n",
       "      <td>2022-04-29 23:50:18+00:00</td>\n",
       "      <td>$GOOG</td>\n",
       "      <td>b'This is now what my $GOOG galaxy 21 lock scr...</td>\n",
       "      <td>NaN</td>\n",
       "      <td>NaN</td>\n",
       "    </tr>\n",
       "  </tbody>\n",
       "</table>\n",
       "<p>30690 rows × 5 columns</p>\n",
       "</div>"
      ],
      "text/plain": [
       "                      Date/Time Hashtag  \\\n",
       "0     2022-05-09 21:25:01+00:00   $AAPL   \n",
       "1     2022-05-09 21:24:45+00:00   $AAPL   \n",
       "2     2022-05-09 21:24:36+00:00   $AAPL   \n",
       "3     2022-05-09 21:24:09+00:00   $AAPL   \n",
       "4     2022-05-09 21:23:14+00:00   $AAPL   \n",
       "...                         ...     ...   \n",
       "4968  2022-04-29 23:59:43+00:00   $GOOG   \n",
       "4969  2022-04-29 23:52:07+00:00   $GOOG   \n",
       "4970  2022-04-29 23:51:46+00:00   $GOOG   \n",
       "4971  2022-04-29 23:51:31+00:00   $GOOG   \n",
       "4972  2022-04-29 23:50:18+00:00   $GOOG   \n",
       "\n",
       "                                                Content Content  Unnamed: 3  \n",
       "0     b'$TSLA to 650 by Thursday. \\n$TWTR to 42 by F...      NaN        NaN  \n",
       "1     b'Count of mentions for the tickers in last 1 ...      NaN        NaN  \n",
       "2     b'@huntdividends $AAPL $MSFT $V \\n\\n1 share ea...      NaN        NaN  \n",
       "3     b'@davidgandler bravo. So proud that you sold ...      NaN        NaN  \n",
       "4     b'RT @MoMo_A1Trader: So biggest money maker wa...      NaN        NaN  \n",
       "...                                                 ...      ...        ...  \n",
       "4968  b\"@Whitey102796 @coinbase @RobinhoodApp I agre...      NaN        NaN  \n",
       "4969  b'RT @ETFStockReport: #Stockmarket @ETFStockRe...      NaN        NaN  \n",
       "4970  b'Panic Attack  \\n$SPX $SPY $IWM $AAPL $AMZN $...      NaN        NaN  \n",
       "4971  b'RT @ETFStockReport: #Stockmarket @ETFStockRe...      NaN        NaN  \n",
       "4972  b'This is now what my $GOOG galaxy 21 lock scr...      NaN        NaN  \n",
       "\n",
       "[30690 rows x 5 columns]"
      ]
     },
     "execution_count": 53,
     "metadata": {},
     "output_type": "execute_result"
    }
   ],
   "source": [
    "tw_sent"
   ]
  },
  {
   "cell_type": "code",
   "execution_count": 52,
   "id": "32195cc1",
   "metadata": {},
   "outputs": [
    {
     "ename": "AttributeError",
     "evalue": "'float' object has no attribute 'encode'",
     "output_type": "error",
     "traceback": [
      "\u001b[1;31m---------------------------------------------------------------------------\u001b[0m",
      "\u001b[1;31mAttributeError\u001b[0m                            Traceback (most recent call last)",
      "\u001b[1;32m~\\AppData\\Local\\Temp/ipykernel_872/3105809543.py\u001b[0m in \u001b[0;36m<module>\u001b[1;34m\u001b[0m\n\u001b[1;32m----> 1\u001b[1;33m \u001b[0mtw_sent\u001b[0m\u001b[1;33m[\u001b[0m\u001b[1;34m'score'\u001b[0m\u001b[1;33m]\u001b[0m \u001b[1;33m=\u001b[0m \u001b[0mtw_sent\u001b[0m\u001b[1;33m[\u001b[0m\u001b[1;34m'Content'\u001b[0m\u001b[1;33m]\u001b[0m\u001b[1;33m.\u001b[0m\u001b[0mapply\u001b[0m\u001b[1;33m(\u001b[0m\u001b[1;32mlambda\u001b[0m \u001b[0mreview\u001b[0m\u001b[1;33m:\u001b[0m \u001b[0msid\u001b[0m\u001b[1;33m.\u001b[0m\u001b[0mpolarity_scores\u001b[0m\u001b[1;33m(\u001b[0m\u001b[0mreview\u001b[0m\u001b[1;33m)\u001b[0m\u001b[1;33m)\u001b[0m\u001b[1;33m\u001b[0m\u001b[1;33m\u001b[0m\u001b[0m\n\u001b[0m",
      "\u001b[1;32m~\\anaconda3\\lib\\site-packages\\pandas\\core\\series.py\u001b[0m in \u001b[0;36mapply\u001b[1;34m(self, func, convert_dtype, args, **kwargs)\u001b[0m\n\u001b[0;32m   4355\u001b[0m         \u001b[0mdtype\u001b[0m\u001b[1;33m:\u001b[0m \u001b[0mfloat64\u001b[0m\u001b[1;33m\u001b[0m\u001b[1;33m\u001b[0m\u001b[0m\n\u001b[0;32m   4356\u001b[0m         \"\"\"\n\u001b[1;32m-> 4357\u001b[1;33m         \u001b[1;32mreturn\u001b[0m \u001b[0mSeriesApply\u001b[0m\u001b[1;33m(\u001b[0m\u001b[0mself\u001b[0m\u001b[1;33m,\u001b[0m \u001b[0mfunc\u001b[0m\u001b[1;33m,\u001b[0m \u001b[0mconvert_dtype\u001b[0m\u001b[1;33m,\u001b[0m \u001b[0margs\u001b[0m\u001b[1;33m,\u001b[0m \u001b[0mkwargs\u001b[0m\u001b[1;33m)\u001b[0m\u001b[1;33m.\u001b[0m\u001b[0mapply\u001b[0m\u001b[1;33m(\u001b[0m\u001b[1;33m)\u001b[0m\u001b[1;33m\u001b[0m\u001b[1;33m\u001b[0m\u001b[0m\n\u001b[0m\u001b[0;32m   4358\u001b[0m \u001b[1;33m\u001b[0m\u001b[0m\n\u001b[0;32m   4359\u001b[0m     def _reduce(\n",
      "\u001b[1;32m~\\anaconda3\\lib\\site-packages\\pandas\\core\\apply.py\u001b[0m in \u001b[0;36mapply\u001b[1;34m(self)\u001b[0m\n\u001b[0;32m   1041\u001b[0m             \u001b[1;32mreturn\u001b[0m \u001b[0mself\u001b[0m\u001b[1;33m.\u001b[0m\u001b[0mapply_str\u001b[0m\u001b[1;33m(\u001b[0m\u001b[1;33m)\u001b[0m\u001b[1;33m\u001b[0m\u001b[1;33m\u001b[0m\u001b[0m\n\u001b[0;32m   1042\u001b[0m \u001b[1;33m\u001b[0m\u001b[0m\n\u001b[1;32m-> 1043\u001b[1;33m         \u001b[1;32mreturn\u001b[0m \u001b[0mself\u001b[0m\u001b[1;33m.\u001b[0m\u001b[0mapply_standard\u001b[0m\u001b[1;33m(\u001b[0m\u001b[1;33m)\u001b[0m\u001b[1;33m\u001b[0m\u001b[1;33m\u001b[0m\u001b[0m\n\u001b[0m\u001b[0;32m   1044\u001b[0m \u001b[1;33m\u001b[0m\u001b[0m\n\u001b[0;32m   1045\u001b[0m     \u001b[1;32mdef\u001b[0m \u001b[0magg\u001b[0m\u001b[1;33m(\u001b[0m\u001b[0mself\u001b[0m\u001b[1;33m)\u001b[0m\u001b[1;33m:\u001b[0m\u001b[1;33m\u001b[0m\u001b[1;33m\u001b[0m\u001b[0m\n",
      "\u001b[1;32m~\\anaconda3\\lib\\site-packages\\pandas\\core\\apply.py\u001b[0m in \u001b[0;36mapply_standard\u001b[1;34m(self)\u001b[0m\n\u001b[0;32m   1096\u001b[0m                 \u001b[1;31m# List[Union[Callable[..., Any], str]]]]]\"; expected\u001b[0m\u001b[1;33m\u001b[0m\u001b[1;33m\u001b[0m\u001b[0m\n\u001b[0;32m   1097\u001b[0m                 \u001b[1;31m# \"Callable[[Any], Any]\"\u001b[0m\u001b[1;33m\u001b[0m\u001b[1;33m\u001b[0m\u001b[0m\n\u001b[1;32m-> 1098\u001b[1;33m                 mapped = lib.map_infer(\n\u001b[0m\u001b[0;32m   1099\u001b[0m                     \u001b[0mvalues\u001b[0m\u001b[1;33m,\u001b[0m\u001b[1;33m\u001b[0m\u001b[1;33m\u001b[0m\u001b[0m\n\u001b[0;32m   1100\u001b[0m                     \u001b[0mf\u001b[0m\u001b[1;33m,\u001b[0m  \u001b[1;31m# type: ignore[arg-type]\u001b[0m\u001b[1;33m\u001b[0m\u001b[1;33m\u001b[0m\u001b[0m\n",
      "\u001b[1;32m~\\anaconda3\\lib\\site-packages\\pandas\\_libs\\lib.pyx\u001b[0m in \u001b[0;36mpandas._libs.lib.map_infer\u001b[1;34m()\u001b[0m\n",
      "\u001b[1;32m~\\AppData\\Local\\Temp/ipykernel_872/3105809543.py\u001b[0m in \u001b[0;36m<lambda>\u001b[1;34m(review)\u001b[0m\n\u001b[1;32m----> 1\u001b[1;33m \u001b[0mtw_sent\u001b[0m\u001b[1;33m[\u001b[0m\u001b[1;34m'score'\u001b[0m\u001b[1;33m]\u001b[0m \u001b[1;33m=\u001b[0m \u001b[0mtw_sent\u001b[0m\u001b[1;33m[\u001b[0m\u001b[1;34m'Content'\u001b[0m\u001b[1;33m]\u001b[0m\u001b[1;33m.\u001b[0m\u001b[0mapply\u001b[0m\u001b[1;33m(\u001b[0m\u001b[1;32mlambda\u001b[0m \u001b[0mreview\u001b[0m\u001b[1;33m:\u001b[0m \u001b[0msid\u001b[0m\u001b[1;33m.\u001b[0m\u001b[0mpolarity_scores\u001b[0m\u001b[1;33m(\u001b[0m\u001b[0mreview\u001b[0m\u001b[1;33m)\u001b[0m\u001b[1;33m)\u001b[0m\u001b[1;33m\u001b[0m\u001b[1;33m\u001b[0m\u001b[0m\n\u001b[0m",
      "\u001b[1;32m~\\anaconda3\\lib\\site-packages\\nltk\\sentiment\\vader.py\u001b[0m in \u001b[0;36mpolarity_scores\u001b[1;34m(self, text)\u001b[0m\n\u001b[0;32m    359\u001b[0m         \"\"\"\n\u001b[0;32m    360\u001b[0m         \u001b[1;31m# text, words_and_emoticons, is_cap_diff = self.preprocess(text)\u001b[0m\u001b[1;33m\u001b[0m\u001b[1;33m\u001b[0m\u001b[0m\n\u001b[1;32m--> 361\u001b[1;33m         sentitext = SentiText(\n\u001b[0m\u001b[0;32m    362\u001b[0m             \u001b[0mtext\u001b[0m\u001b[1;33m,\u001b[0m \u001b[0mself\u001b[0m\u001b[1;33m.\u001b[0m\u001b[0mconstants\u001b[0m\u001b[1;33m.\u001b[0m\u001b[0mPUNC_LIST\u001b[0m\u001b[1;33m,\u001b[0m \u001b[0mself\u001b[0m\u001b[1;33m.\u001b[0m\u001b[0mconstants\u001b[0m\u001b[1;33m.\u001b[0m\u001b[0mREGEX_REMOVE_PUNCTUATION\u001b[0m\u001b[1;33m\u001b[0m\u001b[1;33m\u001b[0m\u001b[0m\n\u001b[0;32m    363\u001b[0m         )\n",
      "\u001b[1;32m~\\anaconda3\\lib\\site-packages\\nltk\\sentiment\\vader.py\u001b[0m in \u001b[0;36m__init__\u001b[1;34m(self, text, punc_list, regex_remove_punctuation)\u001b[0m\n\u001b[0;32m    268\u001b[0m     \u001b[1;32mdef\u001b[0m \u001b[0m__init__\u001b[0m\u001b[1;33m(\u001b[0m\u001b[0mself\u001b[0m\u001b[1;33m,\u001b[0m \u001b[0mtext\u001b[0m\u001b[1;33m,\u001b[0m \u001b[0mpunc_list\u001b[0m\u001b[1;33m,\u001b[0m \u001b[0mregex_remove_punctuation\u001b[0m\u001b[1;33m)\u001b[0m\u001b[1;33m:\u001b[0m\u001b[1;33m\u001b[0m\u001b[1;33m\u001b[0m\u001b[0m\n\u001b[0;32m    269\u001b[0m         \u001b[1;32mif\u001b[0m \u001b[1;32mnot\u001b[0m \u001b[0misinstance\u001b[0m\u001b[1;33m(\u001b[0m\u001b[0mtext\u001b[0m\u001b[1;33m,\u001b[0m \u001b[0mstr\u001b[0m\u001b[1;33m)\u001b[0m\u001b[1;33m:\u001b[0m\u001b[1;33m\u001b[0m\u001b[1;33m\u001b[0m\u001b[0m\n\u001b[1;32m--> 270\u001b[1;33m             \u001b[0mtext\u001b[0m \u001b[1;33m=\u001b[0m \u001b[0mstr\u001b[0m\u001b[1;33m(\u001b[0m\u001b[0mtext\u001b[0m\u001b[1;33m.\u001b[0m\u001b[0mencode\u001b[0m\u001b[1;33m(\u001b[0m\u001b[1;34m\"utf-8\"\u001b[0m\u001b[1;33m)\u001b[0m\u001b[1;33m)\u001b[0m\u001b[1;33m\u001b[0m\u001b[1;33m\u001b[0m\u001b[0m\n\u001b[0m\u001b[0;32m    271\u001b[0m         \u001b[0mself\u001b[0m\u001b[1;33m.\u001b[0m\u001b[0mtext\u001b[0m \u001b[1;33m=\u001b[0m \u001b[0mtext\u001b[0m\u001b[1;33m\u001b[0m\u001b[1;33m\u001b[0m\u001b[0m\n\u001b[0;32m    272\u001b[0m         \u001b[0mself\u001b[0m\u001b[1;33m.\u001b[0m\u001b[0mPUNC_LIST\u001b[0m \u001b[1;33m=\u001b[0m \u001b[0mpunc_list\u001b[0m\u001b[1;33m\u001b[0m\u001b[1;33m\u001b[0m\u001b[0m\n",
      "\u001b[1;31mAttributeError\u001b[0m: 'float' object has no attribute 'encode'"
     ]
    }
   ],
   "source": [
    "tw_sent['score'] = tw_sent['Content'].apply(lambda review: sid.polarity_scores(review))"
   ]
  },
  {
   "cell_type": "code",
   "execution_count": null,
   "id": "f049551e",
   "metadata": {},
   "outputs": [],
   "source": [
    "tw_sent['compound']  = tw_sent['score'].apply(lambda score_dict: score_dict['compound'])"
   ]
  },
  {
   "cell_type": "code",
   "execution_count": null,
   "id": "7c3a33db",
   "metadata": {},
   "outputs": [],
   "source": []
  },
  {
   "cell_type": "code",
   "execution_count": null,
   "id": "4af2eac5",
   "metadata": {},
   "outputs": [],
   "source": [
    "tw_sen = tw_sent.assign(result=tw_sent['Hashtag'].str.replace(r'$', ''))\n",
    "tw_sen"
   ]
  },
  {
   "cell_type": "code",
   "execution_count": null,
   "id": "f00fe50f",
   "metadata": {},
   "outputs": [],
   "source": [
    "tw_sent"
   ]
  },
  {
   "cell_type": "markdown",
   "id": "b3cd419b",
   "metadata": {},
   "source": [
    "Exploratory Data Analysis"
   ]
  },
  {
   "cell_type": "code",
   "execution_count": 42,
   "id": "07be068a",
   "metadata": {},
   "outputs": [],
   "source": [
    "import matplotlib.pyplot as plt\n",
    "import seaborn as sns"
   ]
  },
  {
   "cell_type": "code",
   "execution_count": 44,
   "id": "e1a8220d",
   "metadata": {},
   "outputs": [
    {
     "data": {
      "text/plain": [
       "([<matplotlib.patches.Wedge at 0x129cfe5b040>,\n",
       "  <matplotlib.patches.Wedge at 0x129cfe5b9a0>,\n",
       "  <matplotlib.patches.Wedge at 0x129cfe6e100>],\n",
       " [Text(-0.061471395364546474, 1.0982810512577987, '$AAPL'),\n",
       "  Text(-0.7141879472251007, -0.8366215249671723, '$AMZN'),\n",
       "  Text(0.7954030901367384, -0.7598249299680341, '$FB')],\n",
       " [Text(-0.033529852017025345, 0.599062391595163, '51.8%'),\n",
       "  Text(-0.3895570621227821, -0.4563390136184576, '23.9%'),\n",
       "  Text(0.4338562309836755, -0.41444996180074584, '24.3%')])"
      ]
     },
     "execution_count": 44,
     "metadata": {},
     "output_type": "execute_result"
    },
    {
     "data": {
      "image/png": "[encoded data removed]",
      "text/plain": [
       "<Figure size 1440x720 with 2 Axes>"
      ]
     },
     "metadata": {
      "needs_background": "light"
     },
     "output_type": "display_data"
    },
    {
     "data": {
      "text/plain": [
       "<Figure size 720x720 with 0 Axes>"
      ]
     },
     "metadata": {},
     "output_type": "display_data"
    }
   ],
   "source": [
    "fig, (ax1,ax2) = plt.subplots(1,2,figsize = (20,10))\n",
    "#plt.title('Pie Chart of overall submissions Tag wise')\n",
    "fig = plt.figure(figsize=(10,10))\n",
    "\n",
    "dfgroup = twit_data.groupby(['hashtag'])['body'].count().reset_index()\n",
    "ax1.set_title('Pie Chart of Tweets')\n",
    "ax1.pie(dfgroup[\"body\"],labels=dfgroup[\"hashtag\"], autopct='%1.1f%%')"
   ]
  },
  {
   "cell_type": "code",
   "execution_count": null,
   "id": "4999261a",
   "metadata": {},
   "outputs": [],
   "source": [
    "sns.pairplot(adve, x_vars=['TV', 'Radio','Newspaper'], \n",
    "             y_vars='Sales', height=4, aspect=1, kind='scatter')\n",
    "plt.show()"
   ]
  }
 ],
 "metadata": {
  "kernelspec": {
   "display_name": "Python 3 (ipykernel)",
   "language": "python",
   "name": "python3"
  },
  "language_info": {
   "codemirror_mode": {
    "name": "ipython",
    "version": 3
   },
   "file_extension": ".py",
   "mimetype": "text/x-python",
   "name": "python",
   "nbconvert_exporter": "python",
   "pygments_lexer": "ipython3",
   "version": "3.9.7"
  }
 },
 "nbformat": 4,
 "nbformat_minor": 5
}
