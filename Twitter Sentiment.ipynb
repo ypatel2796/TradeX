{
 "cells": [
  {
   "cell_type": "code",
   "execution_count": 1,
   "id": "4761e958",
   "metadata": {},
   "outputs": [],
   "source": [
    "import requests\n",
    "import tweepy as tw\n",
    "from nltk.corpus import stopwords\n",
    "from nltk.sentiment.vader import SentimentIntensityAnalyzer\n",
    "from sklearn.feature_extraction.text import CountVectorizer\n",
    "import nltk\n",
    "from nltk.sentiment.vader import SentimentIntensityAnalyzer\n",
    "import warnings\n",
    "import re\n",
    "import pandas as pd\n",
    "import json\n",
    "import datetime\n",
    "import time\n",
    "import csv\n",
    "import numpy as np"
   ]
  },
  {
   "cell_type": "code",
   "execution_count": 16,
   "id": "32fcb593",
   "metadata": {},
   "outputs": [
    {
     "ename": "SyntaxError",
     "evalue": "positional argument follows keyword argument (Temp/ipykernel_8440/2695619983.py, line 15)",
     "output_type": "error",
     "traceback": [
      "\u001b[1;36m  File \u001b[1;32m\"C:\\Users\\natal\\AppData\\Local\\Temp/ipykernel_8440/2695619983.py\"\u001b[1;36m, line \u001b[1;32m15\u001b[0m\n\u001b[1;33m    ).items(20):\u001b[0m\n\u001b[1;37m    ^\u001b[0m\n\u001b[1;31mSyntaxError\u001b[0m\u001b[1;31m:\u001b[0m positional argument follows keyword argument\n"
     ]
    }
   ],
   "source": [
    "csvFile = open('Try.csv', 'a')\n",
    "\n",
    "csvWriter = csv.writer(csvFile)\n",
    "\n",
    "start = \"2021-01-01\"\n",
    "end = \"2021-12-31\"\n",
    "query = \"$FB -filter:retweets\"\n",
    "num_tweet = 15\n",
    "\n",
    "for tweet in tw.Cursor(api.search_tweets,\n",
    "                       q=query,\n",
    "                       tweets.retweeted==\"15\",\n",
    "                       tweets.geocode=\n",
    "                       lang=\"en\",\n",
    "                       since=start\n",
    "                       ).items(20):\n",
    "\n",
    "    csvWriter.writerow([tweet.created_at, tweet.retweeted, tweet.favorited, tweet.text.encode('utf-8')])\n",
    "    print(tweet.created_at, tweet.retweeted, tweet.favorited, tweet.text)\n",
    "csvFile.close()"
   ]
  },
  {
   "cell_type": "code",
   "execution_count": 17,
   "id": "1eaca2e5",
   "metadata": {},
   "outputs": [],
   "source": [
    "search_stock = \"$FB\"\n",
    "start_date = \"01-01-2021\""
   ]
  },
  {
   "cell_type": "code",
   "execution_count": 19,
   "id": "7e0f9ea1",
   "metadata": {},
   "outputs": [
    {
     "ename": "SyntaxError",
     "evalue": "invalid syntax (Temp/ipykernel_8440/2200408594.py, line 5)",
     "output_type": "error",
     "traceback": [
      "\u001b[1;36m  File \u001b[1;32m\"C:\\Users\\natal\\AppData\\Local\\Temp/ipykernel_8440/2200408594.py\"\u001b[1;36m, line \u001b[1;32m5\u001b[0m\n\u001b[1;33m    since=start_date).items(tweet_count)tweets_list = [tweet.text for tweet in tweets]return tweets_list\u001b[0m\n\u001b[1;37m                                        ^\u001b[0m\n\u001b[1;31mSyntaxError\u001b[0m\u001b[1;31m:\u001b[0m invalid syntax\n"
     ]
    }
   ],
   "source": [
    "def get_stock_tweets (search_stock, start_date, tweet_count):\n",
    "    new_search = search_stock + \" -filter:retweets\" \n",
    "    tweets = tw.Cursor(api.search,q=new_search,\n",
    "                    lang=\"en\",\n",
    "                    since=start_date).items(tweet_count)tweets_list = [tweet.text \n",
    "    for tweet in tweets]return tweets_list"
   ]
  },
  {
   "cell_type": "code",
   "execution_count": null,
   "id": "400c275f",
   "metadata": {},
   "outputs": [],
   "source": []
  },
  {
   "cell_type": "code",
   "execution_count": null,
   "id": "396d791f",
   "metadata": {},
   "outputs": [],
   "source": []
  },
  {
   "cell_type": "code",
   "execution_count": null,
   "id": "a61e627a",
   "metadata": {},
   "outputs": [],
   "source": []
  },
  {
   "cell_type": "code",
   "execution_count": null,
   "id": "3efccb23",
   "metadata": {},
   "outputs": [],
   "source": []
  },
  {
   "cell_type": "code",
   "execution_count": null,
   "id": "4f281375",
   "metadata": {},
   "outputs": [],
   "source": []
  },
  {
   "cell_type": "code",
   "execution_count": null,
   "id": "9295429f",
   "metadata": {},
   "outputs": [],
   "source": []
  },
  {
   "cell_type": "code",
   "execution_count": null,
   "id": "95d094de",
   "metadata": {},
   "outputs": [],
   "source": [
    "csvFile = open('NFLX.csv', 'a')\n",
    "\n",
    "csvWriter = csv.writer(csvFile)\n",
    "\n",
    "start = \"2022-01-01\"\n",
    "end = \"2021-12-31\"\n",
    "query = \"$NFLX\"\n",
    "\n",
    "for tweet in tw.Cursor(api.search_tweets,\n",
    "                       q=query,\n",
    "                       lang=\"en\",\n",
    "                       since=start,\n",
    "                       result_type=\"recent\"\n",
    "                       ).items():\n",
    "\n",
    "    csvWriter.writerow([tweet.created_at, tweet.text.encode('utf-8')])\n",
    "    print(tweet.created_at, tweet.text)\n",
    "csvFile.close()"
   ]
  },
  {
   "cell_type": "code",
   "execution_count": null,
   "id": "c531f782",
   "metadata": {},
   "outputs": [],
   "source": [
    "csvFile = open('GOOG.csv', 'a')\n",
    "\n",
    "csvWriter = csv.writer(csvFile)\n",
    "\n",
    "start = \"2022-01-01\"\n",
    "end = \"2021-12-31\"\n",
    "query = \"$GOOG\"\n",
    "\n",
    "for tweet in tw.Cursor(api.search_tweets,\n",
    "                       q=query,\n",
    "                       lang=\"en\",\n",
    "                       since=start,\n",
    "                       result_type=\"recent\"\n",
    "                       ).items():\n",
    "\n",
    "    csvWriter.writerow([tweet.created_at, tweet.retweeted, tweet.favorited, tweet.text.encode('utf-8')])\n",
    "    print(tweet.created_at, tweet.retweeted, tweet.favorited, tweet.text)\n",
    "csvFile.close()"
   ]
  },
  {
   "cell_type": "code",
   "execution_count": null,
   "id": "0ea8b01e",
   "metadata": {},
   "outputs": [],
   "source": [
    "GOOG = pd.read_csv(\"GOOG.csv\")\n",
    "GOOG"
   ]
  },
  {
   "cell_type": "code",
   "execution_count": 2,
   "id": "17252baf",
   "metadata": {},
   "outputs": [],
   "source": [
    "tw_1 = pd.read_csv(\"AAPL.csv\")\n",
    "tw_2 = pd.read_csv(\"AMZN.csv\")\n",
    "tw_3 = pd.read_csv(\"FB.csv\")\n",
    "tw_4 = pd.read_csv(\"NFLX.csv\")\n",
    "tw_5 = pd.read_csv(\"GOOG.csv\")"
   ]
  },
  {
   "cell_type": "code",
   "execution_count": 14,
   "id": "985f1b01",
   "metadata": {},
   "outputs": [
    {
     "data": {
      "text/html": [
       "<div>\n",
       "<style scoped>\n",
       "    .dataframe tbody tr th:only-of-type {\n",
       "        vertical-align: middle;\n",
       "    }\n",
       "\n",
       "    .dataframe tbody tr th {\n",
       "        vertical-align: top;\n",
       "    }\n",
       "\n",
       "    .dataframe thead th {\n",
       "        text-align: right;\n",
       "    }\n",
       "</style>\n",
       "<table border=\"1\" class=\"dataframe\">\n",
       "  <thead>\n",
       "    <tr style=\"text-align: right;\">\n",
       "      <th></th>\n",
       "      <th>Date/Time</th>\n",
       "      <th>Hashtag</th>\n",
       "      <th>Content</th>\n",
       "    </tr>\n",
       "  </thead>\n",
       "  <tbody>\n",
       "    <tr>\n",
       "      <th>0</th>\n",
       "      <td>2022-05-09 21:25:01+00:00</td>\n",
       "      <td>$AAPL</td>\n",
       "      <td>b'$TSLA to 650 by Thursday. \\n$TWTR to 42 by F...</td>\n",
       "    </tr>\n",
       "    <tr>\n",
       "      <th>1</th>\n",
       "      <td>2022-05-09 21:24:45+00:00</td>\n",
       "      <td>$AAPL</td>\n",
       "      <td>b'Count of mentions for the tickers in last 1 ...</td>\n",
       "    </tr>\n",
       "    <tr>\n",
       "      <th>2</th>\n",
       "      <td>2022-05-09 21:24:36+00:00</td>\n",
       "      <td>$AAPL</td>\n",
       "      <td>b'@huntdividends $AAPL $MSFT $V \\n\\n1 share ea...</td>\n",
       "    </tr>\n",
       "    <tr>\n",
       "      <th>3</th>\n",
       "      <td>2022-05-09 21:24:09+00:00</td>\n",
       "      <td>$AAPL</td>\n",
       "      <td>b'@davidgandler bravo. So proud that you sold ...</td>\n",
       "    </tr>\n",
       "    <tr>\n",
       "      <th>4</th>\n",
       "      <td>2022-05-09 21:23:14+00:00</td>\n",
       "      <td>$AAPL</td>\n",
       "      <td>b'RT @MoMo_A1Trader: So biggest money maker wa...</td>\n",
       "    </tr>\n",
       "    <tr>\n",
       "      <th>...</th>\n",
       "      <td>...</td>\n",
       "      <td>...</td>\n",
       "      <td>...</td>\n",
       "    </tr>\n",
       "    <tr>\n",
       "      <th>4227</th>\n",
       "      <td>2022-05-08 22:15:06+00:00</td>\n",
       "      <td>$AAPL</td>\n",
       "      <td>b'@ashwinibirla @amazonholder1 @ThanosCapital ...</td>\n",
       "    </tr>\n",
       "    <tr>\n",
       "      <th>4228</th>\n",
       "      <td>2022-05-08 22:14:45+00:00</td>\n",
       "      <td>$AAPL</td>\n",
       "      <td>b'RT @jonnajarian: $AAPL Airpod revenue versus...</td>\n",
       "    </tr>\n",
       "    <tr>\n",
       "      <th>4229</th>\n",
       "      <td>2022-05-08 22:13:54+00:00</td>\n",
       "      <td>$AAPL</td>\n",
       "      <td>b'RT @StockMKTNewz: Apple $AAPL should change ...</td>\n",
       "    </tr>\n",
       "    <tr>\n",
       "      <th>4230</th>\n",
       "      <td>2022-05-08 22:12:57+00:00</td>\n",
       "      <td>$AAPL</td>\n",
       "      <td>b'RT @jonnajarian: $AAPL Airpod revenue versus...</td>\n",
       "    </tr>\n",
       "    <tr>\n",
       "      <th>4231</th>\n",
       "      <td>2022-05-08 22:12:30+00:00</td>\n",
       "      <td>$AAPL</td>\n",
       "      <td>b'RT @jonnajarian: $AAPL Airpod revenue versus...</td>\n",
       "    </tr>\n",
       "  </tbody>\n",
       "</table>\n",
       "<p>4232 rows × 3 columns</p>\n",
       "</div>"
      ],
      "text/plain": [
       "                      Date/Time Hashtag  \\\n",
       "0     2022-05-09 21:25:01+00:00   $AAPL   \n",
       "1     2022-05-09 21:24:45+00:00   $AAPL   \n",
       "2     2022-05-09 21:24:36+00:00   $AAPL   \n",
       "3     2022-05-09 21:24:09+00:00   $AAPL   \n",
       "4     2022-05-09 21:23:14+00:00   $AAPL   \n",
       "...                         ...     ...   \n",
       "4227  2022-05-08 22:15:06+00:00   $AAPL   \n",
       "4228  2022-05-08 22:14:45+00:00   $AAPL   \n",
       "4229  2022-05-08 22:13:54+00:00   $AAPL   \n",
       "4230  2022-05-08 22:12:57+00:00   $AAPL   \n",
       "4231  2022-05-08 22:12:30+00:00   $AAPL   \n",
       "\n",
       "                                                Content  \n",
       "0     b'$TSLA to 650 by Thursday. \\n$TWTR to 42 by F...  \n",
       "1     b'Count of mentions for the tickers in last 1 ...  \n",
       "2     b'@huntdividends $AAPL $MSFT $V \\n\\n1 share ea...  \n",
       "3     b'@davidgandler bravo. So proud that you sold ...  \n",
       "4     b'RT @MoMo_A1Trader: So biggest money maker wa...  \n",
       "...                                                 ...  \n",
       "4227  b'@ashwinibirla @amazonholder1 @ThanosCapital ...  \n",
       "4228  b'RT @jonnajarian: $AAPL Airpod revenue versus...  \n",
       "4229  b'RT @StockMKTNewz: Apple $AAPL should change ...  \n",
       "4230  b'RT @jonnajarian: $AAPL Airpod revenue versus...  \n",
       "4231  b'RT @jonnajarian: $AAPL Airpod revenue versus...  \n",
       "\n",
       "[4232 rows x 3 columns]"
      ]
     },
     "execution_count": 14,
     "metadata": {},
     "output_type": "execute_result"
    }
   ],
   "source": [
    "tw_1"
   ]
  },
  {
   "cell_type": "code",
   "execution_count": 3,
   "id": "ea13e82f",
   "metadata": {},
   "outputs": [],
   "source": [
    "tw_sent = pd.concat([tw_1, tw_2, tw_3, tw_4, tw_5], axis=0)"
   ]
  },
  {
   "cell_type": "code",
   "execution_count": 6,
   "id": "097a0cab",
   "metadata": {},
   "outputs": [
    {
     "name": "stdout",
     "output_type": "stream",
     "text": [
      "This tweet is example $key1\n"
     ]
    }
   ],
   "source": [
    "sent = \"This tweet is example $key1\"\n",
    "sent = sent.strip(\"$\")\n",
    "sent = sent.replace(\"_\",\" \")\n",
    "print(sent)"
   ]
  },
  {
   "cell_type": "code",
   "execution_count": 9,
   "id": "4af2eac5",
   "metadata": {},
   "outputs": [
    {
     "name": "stderr",
     "output_type": "stream",
     "text": [
      "C:\\Users\\natal\\AppData\\Local\\Temp/ipykernel_17484/2234423673.py:1: FutureWarning: The default value of regex will change from True to False in a future version. In addition, single character regular expressions will *not* be treated as literal strings when regex=True.\n",
      "  tw_sen = tw_sent.assign(result=tw_sent['Hashtag'].str.replace(r'$', ''))\n"
     ]
    },
    {
     "data": {
      "text/html": [
       "<div>\n",
       "<style scoped>\n",
       "    .dataframe tbody tr th:only-of-type {\n",
       "        vertical-align: middle;\n",
       "    }\n",
       "\n",
       "    .dataframe tbody tr th {\n",
       "        vertical-align: top;\n",
       "    }\n",
       "\n",
       "    .dataframe thead th {\n",
       "        text-align: right;\n",
       "    }\n",
       "</style>\n",
       "<table border=\"1\" class=\"dataframe\">\n",
       "  <thead>\n",
       "    <tr style=\"text-align: right;\">\n",
       "      <th></th>\n",
       "      <th>Date/Time</th>\n",
       "      <th>Hashtag</th>\n",
       "      <th>Content</th>\n",
       "      <th>Content</th>\n",
       "      <th>result</th>\n",
       "    </tr>\n",
       "  </thead>\n",
       "  <tbody>\n",
       "    <tr>\n",
       "      <th>0</th>\n",
       "      <td>2022-05-09 21:25:01+00:00</td>\n",
       "      <td>$AAPL</td>\n",
       "      <td>b'$TSLA to 650 by Thursday. \\n$TWTR to 42 by F...</td>\n",
       "      <td>NaN</td>\n",
       "      <td>AAPL</td>\n",
       "    </tr>\n",
       "    <tr>\n",
       "      <th>1</th>\n",
       "      <td>2022-05-09 21:24:45+00:00</td>\n",
       "      <td>$AAPL</td>\n",
       "      <td>b'Count of mentions for the tickers in last 1 ...</td>\n",
       "      <td>NaN</td>\n",
       "      <td>AAPL</td>\n",
       "    </tr>\n",
       "    <tr>\n",
       "      <th>2</th>\n",
       "      <td>2022-05-09 21:24:36+00:00</td>\n",
       "      <td>$AAPL</td>\n",
       "      <td>b'@huntdividends $AAPL $MSFT $V \\n\\n1 share ea...</td>\n",
       "      <td>NaN</td>\n",
       "      <td>AAPL</td>\n",
       "    </tr>\n",
       "    <tr>\n",
       "      <th>3</th>\n",
       "      <td>2022-05-09 21:24:09+00:00</td>\n",
       "      <td>$AAPL</td>\n",
       "      <td>b'@davidgandler bravo. So proud that you sold ...</td>\n",
       "      <td>NaN</td>\n",
       "      <td>AAPL</td>\n",
       "    </tr>\n",
       "    <tr>\n",
       "      <th>4</th>\n",
       "      <td>2022-05-09 21:23:14+00:00</td>\n",
       "      <td>$AAPL</td>\n",
       "      <td>b'RT @MoMo_A1Trader: So biggest money maker wa...</td>\n",
       "      <td>NaN</td>\n",
       "      <td>AAPL</td>\n",
       "    </tr>\n",
       "    <tr>\n",
       "      <th>...</th>\n",
       "      <td>...</td>\n",
       "      <td>...</td>\n",
       "      <td>...</td>\n",
       "      <td>...</td>\n",
       "      <td>...</td>\n",
       "    </tr>\n",
       "    <tr>\n",
       "      <th>4968</th>\n",
       "      <td>2022-04-29 23:59:43+00:00</td>\n",
       "      <td>$GOOG</td>\n",
       "      <td>b\"@Whitey102796 @coinbase @RobinhoodApp I agre...</td>\n",
       "      <td>NaN</td>\n",
       "      <td>GOOG</td>\n",
       "    </tr>\n",
       "    <tr>\n",
       "      <th>4969</th>\n",
       "      <td>2022-04-29 23:52:07+00:00</td>\n",
       "      <td>$GOOG</td>\n",
       "      <td>b'RT @ETFStockReport: #Stockmarket @ETFStockRe...</td>\n",
       "      <td>NaN</td>\n",
       "      <td>GOOG</td>\n",
       "    </tr>\n",
       "    <tr>\n",
       "      <th>4970</th>\n",
       "      <td>2022-04-29 23:51:46+00:00</td>\n",
       "      <td>$GOOG</td>\n",
       "      <td>b'Panic Attack  \\n$SPX $SPY $IWM $AAPL $AMZN $...</td>\n",
       "      <td>NaN</td>\n",
       "      <td>GOOG</td>\n",
       "    </tr>\n",
       "    <tr>\n",
       "      <th>4971</th>\n",
       "      <td>2022-04-29 23:51:31+00:00</td>\n",
       "      <td>$GOOG</td>\n",
       "      <td>b'RT @ETFStockReport: #Stockmarket @ETFStockRe...</td>\n",
       "      <td>NaN</td>\n",
       "      <td>GOOG</td>\n",
       "    </tr>\n",
       "    <tr>\n",
       "      <th>4972</th>\n",
       "      <td>2022-04-29 23:50:18+00:00</td>\n",
       "      <td>$GOOG</td>\n",
       "      <td>b'This is now what my $GOOG galaxy 21 lock scr...</td>\n",
       "      <td>NaN</td>\n",
       "      <td>GOOG</td>\n",
       "    </tr>\n",
       "  </tbody>\n",
       "</table>\n",
       "<p>29613 rows × 5 columns</p>\n",
       "</div>"
      ],
      "text/plain": [
       "                      Date/Time Hashtag  \\\n",
       "0     2022-05-09 21:25:01+00:00   $AAPL   \n",
       "1     2022-05-09 21:24:45+00:00   $AAPL   \n",
       "2     2022-05-09 21:24:36+00:00   $AAPL   \n",
       "3     2022-05-09 21:24:09+00:00   $AAPL   \n",
       "4     2022-05-09 21:23:14+00:00   $AAPL   \n",
       "...                         ...     ...   \n",
       "4968  2022-04-29 23:59:43+00:00   $GOOG   \n",
       "4969  2022-04-29 23:52:07+00:00   $GOOG   \n",
       "4970  2022-04-29 23:51:46+00:00   $GOOG   \n",
       "4971  2022-04-29 23:51:31+00:00   $GOOG   \n",
       "4972  2022-04-29 23:50:18+00:00   $GOOG   \n",
       "\n",
       "                                                Content Content  result  \n",
       "0     b'$TSLA to 650 by Thursday. \\n$TWTR to 42 by F...      NaN   AAPL  \n",
       "1     b'Count of mentions for the tickers in last 1 ...      NaN   AAPL  \n",
       "2     b'@huntdividends $AAPL $MSFT $V \\n\\n1 share ea...      NaN   AAPL  \n",
       "3     b'@davidgandler bravo. So proud that you sold ...      NaN   AAPL  \n",
       "4     b'RT @MoMo_A1Trader: So biggest money maker wa...      NaN   AAPL  \n",
       "...                                                 ...      ...    ...  \n",
       "4968  b\"@Whitey102796 @coinbase @RobinhoodApp I agre...      NaN   GOOG  \n",
       "4969  b'RT @ETFStockReport: #Stockmarket @ETFStockRe...      NaN   GOOG  \n",
       "4970  b'Panic Attack  \\n$SPX $SPY $IWM $AAPL $AMZN $...      NaN   GOOG  \n",
       "4971  b'RT @ETFStockReport: #Stockmarket @ETFStockRe...      NaN   GOOG  \n",
       "4972  b'This is now what my $GOOG galaxy 21 lock scr...      NaN   GOOG  \n",
       "\n",
       "[29613 rows x 5 columns]"
      ]
     },
     "execution_count": 9,
     "metadata": {},
     "output_type": "execute_result"
    }
   ],
   "source": [
    "tw_sen = tw_sent.assign(result=tw_sent['Hashtag'].str.replace(r'$', ''))\n",
    "tw_sen"
   ]
  },
  {
   "cell_type": "code",
   "execution_count": 4,
   "id": "f00fe50f",
   "metadata": {},
   "outputs": [
    {
     "data": {
      "text/html": [
       "<div>\n",
       "<style scoped>\n",
       "    .dataframe tbody tr th:only-of-type {\n",
       "        vertical-align: middle;\n",
       "    }\n",
       "\n",
       "    .dataframe tbody tr th {\n",
       "        vertical-align: top;\n",
       "    }\n",
       "\n",
       "    .dataframe thead th {\n",
       "        text-align: right;\n",
       "    }\n",
       "</style>\n",
       "<table border=\"1\" class=\"dataframe\">\n",
       "  <thead>\n",
       "    <tr style=\"text-align: right;\">\n",
       "      <th></th>\n",
       "      <th>Date/Time</th>\n",
       "      <th>Hashtag</th>\n",
       "      <th>Content</th>\n",
       "      <th>Content</th>\n",
       "    </tr>\n",
       "  </thead>\n",
       "  <tbody>\n",
       "    <tr>\n",
       "      <th>0</th>\n",
       "      <td>2022-05-09 21:25:01+00:00</td>\n",
       "      <td>$AAPL</td>\n",
       "      <td>b'$TSLA to 650 by Thursday. \\n$TWTR to 42 by F...</td>\n",
       "      <td>NaN</td>\n",
       "    </tr>\n",
       "    <tr>\n",
       "      <th>1</th>\n",
       "      <td>2022-05-09 21:24:45+00:00</td>\n",
       "      <td>$AAPL</td>\n",
       "      <td>b'Count of mentions for the tickers in last 1 ...</td>\n",
       "      <td>NaN</td>\n",
       "    </tr>\n",
       "    <tr>\n",
       "      <th>2</th>\n",
       "      <td>2022-05-09 21:24:36+00:00</td>\n",
       "      <td>$AAPL</td>\n",
       "      <td>b'@huntdividends $AAPL $MSFT $V \\n\\n1 share ea...</td>\n",
       "      <td>NaN</td>\n",
       "    </tr>\n",
       "    <tr>\n",
       "      <th>3</th>\n",
       "      <td>2022-05-09 21:24:09+00:00</td>\n",
       "      <td>$AAPL</td>\n",
       "      <td>b'@davidgandler bravo. So proud that you sold ...</td>\n",
       "      <td>NaN</td>\n",
       "    </tr>\n",
       "    <tr>\n",
       "      <th>4</th>\n",
       "      <td>2022-05-09 21:23:14+00:00</td>\n",
       "      <td>$AAPL</td>\n",
       "      <td>b'RT @MoMo_A1Trader: So biggest money maker wa...</td>\n",
       "      <td>NaN</td>\n",
       "    </tr>\n",
       "    <tr>\n",
       "      <th>...</th>\n",
       "      <td>...</td>\n",
       "      <td>...</td>\n",
       "      <td>...</td>\n",
       "      <td>...</td>\n",
       "    </tr>\n",
       "    <tr>\n",
       "      <th>4968</th>\n",
       "      <td>2022-04-29 23:59:43+00:00</td>\n",
       "      <td>$GOOG</td>\n",
       "      <td>b\"@Whitey102796 @coinbase @RobinhoodApp I agre...</td>\n",
       "      <td>NaN</td>\n",
       "    </tr>\n",
       "    <tr>\n",
       "      <th>4969</th>\n",
       "      <td>2022-04-29 23:52:07+00:00</td>\n",
       "      <td>$GOOG</td>\n",
       "      <td>b'RT @ETFStockReport: #Stockmarket @ETFStockRe...</td>\n",
       "      <td>NaN</td>\n",
       "    </tr>\n",
       "    <tr>\n",
       "      <th>4970</th>\n",
       "      <td>2022-04-29 23:51:46+00:00</td>\n",
       "      <td>$GOOG</td>\n",
       "      <td>b'Panic Attack  \\n$SPX $SPY $IWM $AAPL $AMZN $...</td>\n",
       "      <td>NaN</td>\n",
       "    </tr>\n",
       "    <tr>\n",
       "      <th>4971</th>\n",
       "      <td>2022-04-29 23:51:31+00:00</td>\n",
       "      <td>$GOOG</td>\n",
       "      <td>b'RT @ETFStockReport: #Stockmarket @ETFStockRe...</td>\n",
       "      <td>NaN</td>\n",
       "    </tr>\n",
       "    <tr>\n",
       "      <th>4972</th>\n",
       "      <td>2022-04-29 23:50:18+00:00</td>\n",
       "      <td>$GOOG</td>\n",
       "      <td>b'This is now what my $GOOG galaxy 21 lock scr...</td>\n",
       "      <td>NaN</td>\n",
       "    </tr>\n",
       "  </tbody>\n",
       "</table>\n",
       "<p>29613 rows × 4 columns</p>\n",
       "</div>"
      ],
      "text/plain": [
       "                      Date/Time Hashtag  \\\n",
       "0     2022-05-09 21:25:01+00:00   $AAPL   \n",
       "1     2022-05-09 21:24:45+00:00   $AAPL   \n",
       "2     2022-05-09 21:24:36+00:00   $AAPL   \n",
       "3     2022-05-09 21:24:09+00:00   $AAPL   \n",
       "4     2022-05-09 21:23:14+00:00   $AAPL   \n",
       "...                         ...     ...   \n",
       "4968  2022-04-29 23:59:43+00:00   $GOOG   \n",
       "4969  2022-04-29 23:52:07+00:00   $GOOG   \n",
       "4970  2022-04-29 23:51:46+00:00   $GOOG   \n",
       "4971  2022-04-29 23:51:31+00:00   $GOOG   \n",
       "4972  2022-04-29 23:50:18+00:00   $GOOG   \n",
       "\n",
       "                                                Content Content   \n",
       "0     b'$TSLA to 650 by Thursday. \\n$TWTR to 42 by F...      NaN  \n",
       "1     b'Count of mentions for the tickers in last 1 ...      NaN  \n",
       "2     b'@huntdividends $AAPL $MSFT $V \\n\\n1 share ea...      NaN  \n",
       "3     b'@davidgandler bravo. So proud that you sold ...      NaN  \n",
       "4     b'RT @MoMo_A1Trader: So biggest money maker wa...      NaN  \n",
       "...                                                 ...      ...  \n",
       "4968  b\"@Whitey102796 @coinbase @RobinhoodApp I agre...      NaN  \n",
       "4969  b'RT @ETFStockReport: #Stockmarket @ETFStockRe...      NaN  \n",
       "4970  b'Panic Attack  \\n$SPX $SPY $IWM $AAPL $AMZN $...      NaN  \n",
       "4971  b'RT @ETFStockReport: #Stockmarket @ETFStockRe...      NaN  \n",
       "4972  b'This is now what my $GOOG galaxy 21 lock scr...      NaN  \n",
       "\n",
       "[29613 rows x 4 columns]"
      ]
     },
     "execution_count": 4,
     "metadata": {},
     "output_type": "execute_result"
    }
   ],
   "source": [
    "tw_sent"
   ]
  },
  {
   "cell_type": "markdown",
   "id": "b3cd419b",
   "metadata": {},
   "source": [
    "Exploratory Data Analysis"
   ]
  },
  {
   "cell_type": "code",
   "execution_count": 10,
   "id": "07be068a",
   "metadata": {},
   "outputs": [],
   "source": [
    "import matplotlib.pyplot as plt"
   ]
  },
  {
   "cell_type": "code",
   "execution_count": 11,
   "id": "e1a8220d",
   "metadata": {},
   "outputs": [
    {
     "data": {
      "text/plain": [
       "([<matplotlib.patches.Wedge at 0x22b07f9d250>,\n",
       "  <matplotlib.patches.Wedge at 0x22b07f9daf0>,\n",
       "  <matplotlib.patches.Wedge at 0x22b08f81250>,\n",
       "  <matplotlib.patches.Wedge at 0x22b08f81970>,\n",
       "  <matplotlib.patches.Wedge at 0x22b08f8f0d0>],\n",
       " [Text(0.8181084271495165, 0.7353221072611271, '$AAPL'),\n",
       "  Text(-0.10952910814537736, 1.0945334049122843, '$AMZN'),\n",
       "  Text(-0.3313283510494473, 1.0489144501773509, '$FB'),\n",
       "  Text(-1.0112356919399146, 0.43289995997551517, '$GOOG'),\n",
       "  Text(0.24856170032579922, -1.071548916816749, '$NFLX')],\n",
       " [Text(0.44624096026337257, 0.4010847857787966, '23.3%'),\n",
       "  Text(-0.05974314989747855, 0.5970182208612459, '6.6%'),\n",
       "  Text(-0.18072455511788033, 0.5721351546421913, '0.0%'),\n",
       "  Text(-0.5515831046944988, 0.23612725089573552, '27.4%'),\n",
       "  Text(0.13557910926861774, -0.5844812273545903, '42.7%')])"
      ]
     },
     "execution_count": 11,
     "metadata": {},
     "output_type": "execute_result"
    },
    {
     "data": {
      "image/png": "[encoded data removed]",
      "text/plain": [
       "<Figure size 1440x720 with 2 Axes>"
      ]
     },
     "metadata": {
      "needs_background": "light"
     },
     "output_type": "display_data"
    },
    {
     "data": {
      "text/plain": [
       "<Figure size 720x720 with 0 Axes>"
      ]
     },
     "metadata": {},
     "output_type": "display_data"
    }
   ],
   "source": [
    "fig, (ax1,ax2) = plt.subplots(1,2,figsize = (20,10))\n",
    "#plt.title('Pie Chart of overall submissions Tag wise')\n",
    "fig = plt.figure(figsize=(10,10))\n",
    "\n",
    "dfgroup = tw_sent.groupby(['Hashtag'])['Content'].count().reset_index()\n",
    "ax1.set_title('Pie Chart of Tweets')\n",
    "ax1.pie(dfgroup[\"Content\"],labels=dfgroup[\"Hashtag\"], autopct='%1.1f%%')"
   ]
  },
  {
   "cell_type": "code",
   "execution_count": 13,
   "id": "963e4047",
   "metadata": {},
   "outputs": [
    {
     "ename": "ValueError",
     "evalue": "hist method requires numerical or datetime columns, nothing to plot.",
     "output_type": "error",
     "traceback": [
      "\u001b[1;31m---------------------------------------------------------------------------\u001b[0m",
      "\u001b[1;31mValueError\u001b[0m                                Traceback (most recent call last)",
      "\u001b[1;32m~\\AppData\\Local\\Temp/ipykernel_17484/2719476838.py\u001b[0m in \u001b[0;36m<module>\u001b[1;34m\u001b[0m\n\u001b[1;32m----> 1\u001b[1;33m \u001b[0mtw_sent\u001b[0m\u001b[1;33m.\u001b[0m\u001b[0mhist\u001b[0m\u001b[1;33m(\u001b[0m\u001b[0mcolumn\u001b[0m\u001b[1;33m=\u001b[0m\u001b[1;34m'Hashtag'\u001b[0m\u001b[1;33m)\u001b[0m\u001b[1;33m\u001b[0m\u001b[1;33m\u001b[0m\u001b[0m\n\u001b[0m",
      "\u001b[1;32m~\\anaconda3\\lib\\site-packages\\pandas\\plotting\\_core.py\u001b[0m in \u001b[0;36mhist_frame\u001b[1;34m(data, column, by, grid, xlabelsize, xrot, ylabelsize, yrot, ax, sharex, sharey, figsize, layout, bins, backend, legend, **kwargs)\u001b[0m\n\u001b[0;32m    224\u001b[0m     \"\"\"\n\u001b[0;32m    225\u001b[0m     \u001b[0mplot_backend\u001b[0m \u001b[1;33m=\u001b[0m \u001b[0m_get_plot_backend\u001b[0m\u001b[1;33m(\u001b[0m\u001b[0mbackend\u001b[0m\u001b[1;33m)\u001b[0m\u001b[1;33m\u001b[0m\u001b[1;33m\u001b[0m\u001b[0m\n\u001b[1;32m--> 226\u001b[1;33m     return plot_backend.hist_frame(\n\u001b[0m\u001b[0;32m    227\u001b[0m         \u001b[0mdata\u001b[0m\u001b[1;33m,\u001b[0m\u001b[1;33m\u001b[0m\u001b[1;33m\u001b[0m\u001b[0m\n\u001b[0;32m    228\u001b[0m         \u001b[0mcolumn\u001b[0m\u001b[1;33m=\u001b[0m\u001b[0mcolumn\u001b[0m\u001b[1;33m,\u001b[0m\u001b[1;33m\u001b[0m\u001b[1;33m\u001b[0m\u001b[0m\n",
      "\u001b[1;32m~\\anaconda3\\lib\\site-packages\\pandas\\plotting\\_matplotlib\\hist.py\u001b[0m in \u001b[0;36mhist_frame\u001b[1;34m(data, column, by, grid, xlabelsize, xrot, ylabelsize, yrot, ax, sharex, sharey, figsize, layout, bins, legend, **kwds)\u001b[0m\n\u001b[0;32m    441\u001b[0m \u001b[1;33m\u001b[0m\u001b[0m\n\u001b[0;32m    442\u001b[0m     \u001b[1;32mif\u001b[0m \u001b[0mnaxes\u001b[0m \u001b[1;33m==\u001b[0m \u001b[1;36m0\u001b[0m\u001b[1;33m:\u001b[0m\u001b[1;33m\u001b[0m\u001b[1;33m\u001b[0m\u001b[0m\n\u001b[1;32m--> 443\u001b[1;33m         raise ValueError(\n\u001b[0m\u001b[0;32m    444\u001b[0m             \u001b[1;34m\"hist method requires numerical or datetime columns, nothing to plot.\"\u001b[0m\u001b[1;33m\u001b[0m\u001b[1;33m\u001b[0m\u001b[0m\n\u001b[0;32m    445\u001b[0m         )\n",
      "\u001b[1;31mValueError\u001b[0m: hist method requires numerical or datetime columns, nothing to plot."
     ]
    }
   ],
   "source": [
    "tw_sent.hist(column='Hashtag')"
   ]
  },
  {
   "cell_type": "code",
   "execution_count": null,
   "id": "4999261a",
   "metadata": {},
   "outputs": [],
   "source": []
  }
 ],
 "metadata": {
  "kernelspec": {
   "display_name": "Python 3 (ipykernel)",
   "language": "python",
   "name": "python3"
  },
  "language_info": {
   "codemirror_mode": {
    "name": "ipython",
    "version": 3
   },
   "file_extension": ".py",
   "mimetype": "text/x-python",
   "name": "python",
   "nbconvert_exporter": "python",
   "pygments_lexer": "ipython3",
   "version": "3.9.7"
  }
 },
 "nbformat": 4,
 "nbformat_minor": 5
}
